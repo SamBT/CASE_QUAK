{
 "cells": [
  {
   "cell_type": "code",
   "execution_count": 1,
   "metadata": {},
   "outputs": [],
   "source": [
    "%matplotlib inline\n",
    "%reload_ext autoreload\n",
    "%autoreload 2"
   ]
  },
  {
   "cell_type": "code",
   "execution_count": 2,
   "metadata": {},
   "outputs": [],
   "source": [
    "import numpy as np \n",
    "import matplotlib.pyplot as plt\n",
    "import pandas as pd\n",
    "import torch \n",
    "import torch.nn as nn \n",
    "import torch.nn.functional as F \n",
    "import torch.optim as optim \n",
    "import torch.utils.data as utils"
   ]
  },
  {
   "cell_type": "code",
   "execution_count": 3,
   "metadata": {},
   "outputs": [],
   "source": [
    "f = pd.read_hdf(\"Nsubjettiness_mjj.h5\")"
   ]
  },
  {
   "cell_type": "code",
   "execution_count": 4,
   "metadata": {},
   "outputs": [
    {
     "data": {
      "text/html": [
       "<div>\n",
       "<style scoped>\n",
       "    .dataframe tbody tr th:only-of-type {\n",
       "        vertical-align: middle;\n",
       "    }\n",
       "\n",
       "    .dataframe tbody tr th {\n",
       "        vertical-align: top;\n",
       "    }\n",
       "\n",
       "    .dataframe thead th {\n",
       "        text-align: right;\n",
       "    }\n",
       "</style>\n",
       "<table border=\"1\" class=\"dataframe\">\n",
       "  <thead>\n",
       "    <tr style=\"text-align: right;\">\n",
       "      <th></th>\n",
       "      <th>0</th>\n",
       "      <th>1</th>\n",
       "      <th>2</th>\n",
       "      <th>3</th>\n",
       "      <th>4</th>\n",
       "      <th>5</th>\n",
       "      <th>6</th>\n",
       "      <th>7</th>\n",
       "      <th>8</th>\n",
       "      <th>9</th>\n",
       "      <th>10</th>\n",
       "      <th>11</th>\n",
       "      <th>12</th>\n",
       "      <th>13</th>\n",
       "      <th>14</th>\n",
       "      <th>15</th>\n",
       "    </tr>\n",
       "  </thead>\n",
       "  <tbody>\n",
       "    <tr>\n",
       "      <th>0</th>\n",
       "      <td>98.677270</td>\n",
       "      <td>0.528903</td>\n",
       "      <td>0.788281</td>\n",
       "      <td>0.904471</td>\n",
       "      <td>4.241889</td>\n",
       "      <td>136.0</td>\n",
       "      <td>1285.895950</td>\n",
       "      <td>53.519023</td>\n",
       "      <td>0.668562</td>\n",
       "      <td>0.735745</td>\n",
       "      <td>0.755674</td>\n",
       "      <td>1.895988</td>\n",
       "      <td>128.0</td>\n",
       "      <td>1282.286017</td>\n",
       "      <td>2577.571899</td>\n",
       "      <td>0.0</td>\n",
       "    </tr>\n",
       "    <tr>\n",
       "      <th>1</th>\n",
       "      <td>584.595432</td>\n",
       "      <td>0.345626</td>\n",
       "      <td>0.463461</td>\n",
       "      <td>0.865982</td>\n",
       "      <td>1.069972</td>\n",
       "      <td>320.0</td>\n",
       "      <td>1334.493332</td>\n",
       "      <td>405.034096</td>\n",
       "      <td>0.264362</td>\n",
       "      <td>0.793461</td>\n",
       "      <td>0.830032</td>\n",
       "      <td>1.377217</td>\n",
       "      <td>348.0</td>\n",
       "      <td>1306.137883</td>\n",
       "      <td>3807.507389</td>\n",
       "      <td>0.0</td>\n",
       "    </tr>\n",
       "    <tr>\n",
       "      <th>2</th>\n",
       "      <td>159.597526</td>\n",
       "      <td>0.677692</td>\n",
       "      <td>0.690707</td>\n",
       "      <td>0.695322</td>\n",
       "      <td>1.310040</td>\n",
       "      <td>332.0</td>\n",
       "      <td>678.557182</td>\n",
       "      <td>113.768840</td>\n",
       "      <td>0.713481</td>\n",
       "      <td>0.922610</td>\n",
       "      <td>0.782783</td>\n",
       "      <td>1.887494</td>\n",
       "      <td>236.0</td>\n",
       "      <td>1072.462085</td>\n",
       "      <td>1710.965414</td>\n",
       "      <td>0.0</td>\n",
       "    </tr>\n",
       "    <tr>\n",
       "      <th>3</th>\n",
       "      <td>515.237299</td>\n",
       "      <td>0.091038</td>\n",
       "      <td>0.784454</td>\n",
       "      <td>0.860716</td>\n",
       "      <td>1.102743</td>\n",
       "      <td>248.0</td>\n",
       "      <td>1284.020224</td>\n",
       "      <td>161.648798</td>\n",
       "      <td>0.727507</td>\n",
       "      <td>0.719564</td>\n",
       "      <td>0.870109</td>\n",
       "      <td>1.997360</td>\n",
       "      <td>352.0</td>\n",
       "      <td>1217.031950</td>\n",
       "      <td>2603.379037</td>\n",
       "      <td>0.0</td>\n",
       "    </tr>\n",
       "    <tr>\n",
       "      <th>4</th>\n",
       "      <td>142.420213</td>\n",
       "      <td>0.507714</td>\n",
       "      <td>0.522686</td>\n",
       "      <td>0.904070</td>\n",
       "      <td>1.853319</td>\n",
       "      <td>220.0</td>\n",
       "      <td>1087.658980</td>\n",
       "      <td>105.721163</td>\n",
       "      <td>0.344534</td>\n",
       "      <td>0.614579</td>\n",
       "      <td>0.863765</td>\n",
       "      <td>1.113248</td>\n",
       "      <td>204.0</td>\n",
       "      <td>1205.343324</td>\n",
       "      <td>3294.162200</td>\n",
       "      <td>1.0</td>\n",
       "    </tr>\n",
       "  </tbody>\n",
       "</table>\n",
       "</div>"
      ],
      "text/plain": [
       "            0         1         2         3         4      5            6  \\\n",
       "0   98.677270  0.528903  0.788281  0.904471  4.241889  136.0  1285.895950   \n",
       "1  584.595432  0.345626  0.463461  0.865982  1.069972  320.0  1334.493332   \n",
       "2  159.597526  0.677692  0.690707  0.695322  1.310040  332.0   678.557182   \n",
       "3  515.237299  0.091038  0.784454  0.860716  1.102743  248.0  1284.020224   \n",
       "4  142.420213  0.507714  0.522686  0.904070  1.853319  220.0  1087.658980   \n",
       "\n",
       "            7         8         9        10        11     12           13  \\\n",
       "0   53.519023  0.668562  0.735745  0.755674  1.895988  128.0  1282.286017   \n",
       "1  405.034096  0.264362  0.793461  0.830032  1.377217  348.0  1306.137883   \n",
       "2  113.768840  0.713481  0.922610  0.782783  1.887494  236.0  1072.462085   \n",
       "3  161.648798  0.727507  0.719564  0.870109  1.997360  352.0  1217.031950   \n",
       "4  105.721163  0.344534  0.614579  0.863765  1.113248  204.0  1205.343324   \n",
       "\n",
       "            14   15  \n",
       "0  2577.571899  0.0  \n",
       "1  3807.507389  0.0  \n",
       "2  1710.965414  0.0  \n",
       "3  2603.379037  0.0  \n",
       "4  3294.162200  1.0  "
      ]
     },
     "execution_count": 4,
     "metadata": {},
     "output_type": "execute_result"
    }
   ],
   "source": [
    "f.head()"
   ]
  },
  {
   "cell_type": "code",
   "execution_count": 4,
   "metadata": {},
   "outputs": [],
   "source": [
    "dt = f.values"
   ]
  },
  {
   "cell_type": "code",
   "execution_count": 5,
   "metadata": {},
   "outputs": [],
   "source": [
    "dt[:,0] = (dt[:,0]-np.mean(dt[:,0]))/np.std(dt[:,0])\n",
    "dt[:,1] = (dt[:,1]-np.mean(dt[:,1]))/np.std(dt[:,1])\n",
    "dt[:,2] = (dt[:,2]-np.mean(dt[:,2]))/np.std(dt[:,2])\n",
    "dt[:,3] = (dt[:,3]-np.mean(dt[:,3]))/np.std(dt[:,3])\n",
    "dt[:,4] = (dt[:,4]-np.mean(dt[:,4]))/np.std(dt[:,4])\n",
    "dt[:,5] = (dt[:,5]-np.mean(dt[:,5]))/np.std(dt[:,5])\n",
    "\n",
    "dt[:,7] = (dt[:,7]-np.mean(dt[:,7]))/np.std(dt[:,7])\n",
    "dt[:,8] = (dt[:,8]-np.mean(dt[:,8]))/np.std(dt[:,8])\n",
    "dt[:,9] = (dt[:,9]-np.mean(dt[:,9]))/np.std(dt[:,9])\n",
    "dt[:,10] = (dt[:,10]-np.mean(dt[:,10]))/np.std(dt[:,10])\n",
    "dt[:,11] = (dt[:,11]-np.mean(dt[:,11]))/np.std(dt[:,11])\n",
    "dt[:,12] = (dt[:,12]-np.mean(dt[:,12]))/np.std(dt[:,12])"
   ]
  },
  {
   "cell_type": "code",
   "execution_count": 6,
   "metadata": {},
   "outputs": [],
   "source": [
    "idx = dt[:,15]\n",
    "bkg_idx = np.where(idx==0)[0]\n",
    "signal_idx = np.where(idx==1)[0]"
   ]
  },
  {
   "cell_type": "code",
   "execution_count": 7,
   "metadata": {},
   "outputs": [],
   "source": [
    "realnvploss_rnd = np.load('/data/t3home000/spark/LHCOlympics/data/jetimages_rnd_RealNVP_loss.npy')"
   ]
  },
  {
   "cell_type": "code",
   "execution_count": 11,
   "metadata": {},
   "outputs": [
    {
     "data": {
      "image/png": "[encoded data removed]",
      "text/plain": [
       "<Figure size 720x720 with 1 Axes>"
      ]
     },
     "metadata": {
      "needs_background": "light"
     },
     "output_type": "display_data"
    }
   ],
   "source": [
    "plt.rcParams[\"figure.figsize\"] = (10,10)\n",
    "plt.hist(realnvploss_rnd[bkg_idx],5000)\n",
    "plt.hist(realnvploss_rnd[signal_idx],5000)\n",
    "plt.xlim([16500,18000])\n",
    "plt.savefig('/data/t3home000/spark/LHCOlympics/plots/rnd_realnvploss.png')\n",
    "#plt.ylim([0,500])"
   ]
  },
  {
   "cell_type": "code",
   "execution_count": 8,
   "metadata": {},
   "outputs": [
    {
     "data": {
      "text/plain": [
       "(array([3.70000e+01, 1.16700e+03, 1.03150e+04, 4.31800e+04, 1.27378e+05,\n",
       "        2.93883e+05, 3.86330e+05, 1.36746e+05, 9.56000e+02, 8.00000e+00]),\n",
       " array([-5.43696854, -4.51002771, -3.58308688, -2.65614605, -1.72920522,\n",
       "        -0.80226439,  0.12467644,  1.05161727,  1.97855811,  2.90549894,\n",
       "         3.83243977]),\n",
       " <a list of 10 Patch objects>)"
      ]
     },
     "execution_count": 8,
     "metadata": {},
     "output_type": "execute_result"
    },
    {
     "data": {
      "image/png": "[encoded data removed]",
      "text/plain": [
       "<Figure size 432x288 with 1 Axes>"
      ]
     },
     "metadata": {
      "needs_background": "light"
     },
     "output_type": "display_data"
    }
   ],
   "source": [
    "plt.hist(dt[bkg_idx,2])"
   ]
  },
  {
   "cell_type": "code",
   "execution_count": 9,
   "metadata": {},
   "outputs": [],
   "source": [
    "data = torch.tensor(dt[bkg_idx])\n",
    "data_train_x_1 = data.t()[0:6].t()\n",
    "data_train_x_2 = data.t()[7:13].t()\n",
    "data_train_x = torch.cat((data_train_x_1,data_train_x_2),dim=1)"
   ]
  },
  {
   "cell_type": "code",
   "execution_count": 10,
   "metadata": {},
   "outputs": [],
   "source": [
    "bs = 256\n",
    "my_dataset = utils.TensorDataset(data_train_x,data_train_x) \n",
    "my_dataloader = utils.DataLoader(my_dataset, batch_size=bs, shuffle=True) "
   ]
  },
  {
   "cell_type": "code",
   "execution_count": 9,
   "metadata": {},
   "outputs": [],
   "source": [
    "class Encoder_jet(nn.Module):\n",
    "    def __init__(self):\n",
    "        super().__init__()\n",
    "        self.linear1 = nn.Linear(12, 48)\n",
    "        self.linear2 = nn.Linear(48, 30)\n",
    "        self.linear3 = nn.Linear(30, 20)\n",
    "        self.linear4 = nn.Linear(12, 4)\n",
    "\n",
    "    def forward(self, x):\n",
    "        x = F.leaky_relu(self.linear1(x))\n",
    "        x = F.leaky_relu(self.linear2(x))\n",
    "        x = F.leaky_relu(self.linear3(x))\n",
    "        x = F.tanh(self.linear4(x))\n",
    "        return x"
   ]
  },
  {
   "cell_type": "code",
   "execution_count": 10,
   "metadata": {},
   "outputs": [],
   "source": [
    "class Decoder_jet(nn.Module):\n",
    "    def __init__(self):\n",
    "        super().__init__()\n",
    "        self.linear1 = nn.Linear(4, 12)\n",
    "        self.linear2 = nn.Linear(12, 24)\n",
    "        self.linear3 = nn.Linear(24, 48)\n",
    "        self.linear4 = nn.Linear(48, 12)\n",
    "\n",
    "    def forward(self, x):\n",
    "        x = F.leaky_relu(self.linear1(x))\n",
    "        x = F.leaky_relu(self.linear2(x))\n",
    "        x = F.leaky_relu(self.linear3(x))\n",
    "        x = self.linear4(x)\n",
    "        return x"
   ]
  },
  {
   "cell_type": "code",
   "execution_count": 13,
   "metadata": {},
   "outputs": [],
   "source": [
    "#second architecture\n",
    "class Encoder_jet(nn.Module):\n",
    "    def __init__(self):\n",
    "        super().__init__()\n",
    "        self.linear1 = nn.Linear(12, 48)\n",
    "        self.linear2 = nn.Linear(48, 30)\n",
    "        self.linear3 = nn.Linear(30, 20)\n",
    "        self.linear4 = nn.Linear(20, 10)\n",
    "        self.linear5 = nn.Linear(10, 6)\n",
    "        self.linear6 = nn.Linear(6, 3)\n",
    "\n",
    "    def forward(self, x):\n",
    "        x = F.leaky_relu(self.linear1(x))\n",
    "        x = F.leaky_relu(self.linear2(x))\n",
    "        x = F.leaky_relu(self.linear3(x))\n",
    "        x = F.leaky_relu(self.linear4(x))\n",
    "        x = F.leaky_relu(self.linear5(x))\n",
    "        x = F.tanh(self.linear6(x))\n",
    "        return x"
   ]
  },
  {
   "cell_type": "code",
   "execution_count": 14,
   "metadata": {},
   "outputs": [],
   "source": [
    "class Decoder_jet(nn.Module):\n",
    "    def __init__(self):\n",
    "        super().__init__()\n",
    "        self.linear1 = nn.Linear(3, 6)\n",
    "        self.linear2 = nn.Linear(6, 10)\n",
    "        self.linear3 = nn.Linear(10, 20)\n",
    "        self.linear4 = nn.Linear(20, 30)\n",
    "        self.linear5 = nn.Linear(30, 48)\n",
    "        self.linear6 = nn.Linear(48, 12)\n",
    "        \n",
    "\n",
    "    def forward(self, x):\n",
    "        x = F.leaky_relu(self.linear1(x))\n",
    "        x = F.leaky_relu(self.linear2(x))\n",
    "        x = F.leaky_relu(self.linear3(x))\n",
    "        x = F.leaky_relu(self.linear4(x))\n",
    "        x = F.leaky_relu(self.linear5(x))\n",
    "        x = self.linear6(x)\n",
    "        return x"
   ]
  },
  {
   "cell_type": "code",
   "execution_count": 15,
   "metadata": {},
   "outputs": [],
   "source": [
    "model_enc = Encoder_jet().cuda()\n",
    "model_dec = Decoder_jet().cuda()"
   ]
  },
  {
   "cell_type": "code",
   "execution_count": 16,
   "metadata": {},
   "outputs": [],
   "source": [
    "lrs = 1e-4\n",
    "optimizer_enc = optim.Adam(model_enc.parameters(), lr = lrs)\n",
    "optimizer_dec = optim.Adam(model_dec.parameters(), lr = lrs)\n",
    "loss = nn.MSELoss()"
   ]
  },
  {
   "cell_type": "code",
   "execution_count": 17,
   "metadata": {},
   "outputs": [
    {
     "name": "stderr",
     "output_type": "stream",
     "text": [
      "/home/spark/miniconda3/envs/myenv/lib/python3.6/site-packages/torch/nn/functional.py:1340: UserWarning: nn.functional.tanh is deprecated. Use torch.tanh instead.\n",
      "  warnings.warn(\"nn.functional.tanh is deprecated. Use torch.tanh instead.\")\n"
     ]
    },
    {
     "name": "stdout",
     "output_type": "stream",
     "text": [
      "Epoch: 0 Loss Training: 0.56458235\n",
      "Epoch: 1 Loss Training: 0.57191736\n",
      "Epoch: 2 Loss Training: 0.44961807\n",
      "Epoch: 3 Loss Training: 0.53347427\n",
      "Epoch: 4 Loss Training: 0.5093448\n",
      "Epoch: 5 Loss Training: 0.66830415\n",
      "Epoch: 6 Loss Training: 0.5444723\n",
      "Epoch: 7 Loss Training: 0.47677878\n",
      "Epoch: 8 Loss Training: 0.45231536\n",
      "Epoch: 9 Loss Training: 0.45192233\n",
      "Epoch: 10 Loss Training: 0.42329773\n",
      "Epoch: 11 Loss Training: 0.4274977\n",
      "Epoch: 12 Loss Training: 0.396494\n",
      "Epoch: 13 Loss Training: 0.33093956\n",
      "Epoch: 14 Loss Training: 0.37021175\n",
      "Epoch: 15 Loss Training: 0.3705119\n",
      "Epoch: 16 Loss Training: 0.31388864\n",
      "Epoch: 17 Loss Training: 0.33348897\n",
      "Epoch: 18 Loss Training: 0.3997377\n",
      "Epoch: 19 Loss Training: 0.34452268\n"
     ]
    }
   ],
   "source": [
    "epochs = 20\n",
    "for epoch in range(epochs):\n",
    "    model_enc.train()\n",
    "    model_dec.train()\n",
    "    for i, dtt in enumerate(my_dataloader):\n",
    "        optimizer_enc.zero_grad()\n",
    "        optimizer_dec.zero_grad()\n",
    "        \n",
    "        inp = dtt[0].float().cuda()\n",
    "        output = dtt[1].float().cuda()\n",
    "\n",
    "        ls = loss(model_dec(model_enc(inp)),output)\n",
    "\n",
    "        ls.backward()\n",
    "        optimizer_enc.step()\n",
    "        optimizer_dec.step()\n",
    "    if epoch%1==0:\n",
    "        print(\"Epoch: \" + str(epoch), \"Loss Training: \" + str(ls.data.cpu().numpy()))"
   ]
  },
  {
   "cell_type": "code",
   "execution_count": 9,
   "metadata": {},
   "outputs": [],
   "source": [
    "data_bkg = torch.tensor(dt[bkg_idx])\n",
    "data_signal = torch.tensor(dt[signal_idx])"
   ]
  },
  {
   "cell_type": "code",
   "execution_count": 21,
   "metadata": {},
   "outputs": [],
   "source": [
    "j1tau21 = dt_sig[:,1]"
   ]
  },
  {
   "cell_type": "code",
   "execution_count": 22,
   "metadata": {
    "scrolled": true
   },
   "outputs": [
    {
     "data": {
      "text/plain": [
       "(100000,)"
      ]
     },
     "execution_count": 22,
     "metadata": {},
     "output_type": "execute_result"
    }
   ],
   "source": [
    "j1tau21.shape"
   ]
  },
  {
   "cell_type": "code",
   "execution_count": 23,
   "metadata": {},
   "outputs": [],
   "source": [
    "tau21choice = np.where(j1tau21>-1.4)[0]"
   ]
  },
  {
   "cell_type": "code",
   "execution_count": 24,
   "metadata": {},
   "outputs": [],
   "source": [
    "data_sig_slice = torch.tensor(dt_sig[tau21choice])"
   ]
  },
  {
   "cell_type": "code",
   "execution_count": 18,
   "metadata": {},
   "outputs": [
    {
     "ename": "NameError",
     "evalue": "name 'data_sig_slice' is not defined",
     "output_type": "error",
     "traceback": [
      "\u001b[0;31m---------------------------------------------------------------------------\u001b[0m",
      "\u001b[0;31mNameError\u001b[0m                                 Traceback (most recent call last)",
      "\u001b[0;32m<ipython-input-18-eb2c4d041962>\u001b[0m in \u001b[0;36m<module>\u001b[0;34m\u001b[0m\n\u001b[0;32m----> 1\u001b[0;31m \u001b[0mdata_train_x_1\u001b[0m \u001b[0;34m=\u001b[0m \u001b[0mdata_sig_slice\u001b[0m\u001b[0;34m.\u001b[0m\u001b[0mt\u001b[0m\u001b[0;34m(\u001b[0m\u001b[0;34m)\u001b[0m\u001b[0;34m[\u001b[0m\u001b[0;36m0\u001b[0m\u001b[0;34m:\u001b[0m\u001b[0;36m6\u001b[0m\u001b[0;34m]\u001b[0m\u001b[0;34m.\u001b[0m\u001b[0mt\u001b[0m\u001b[0;34m(\u001b[0m\u001b[0;34m)\u001b[0m\u001b[0;34m\u001b[0m\u001b[0;34m\u001b[0m\u001b[0m\n\u001b[0m\u001b[1;32m      2\u001b[0m \u001b[0mdata_train_x_2\u001b[0m \u001b[0;34m=\u001b[0m \u001b[0mdata_sig_slice\u001b[0m\u001b[0;34m.\u001b[0m\u001b[0mt\u001b[0m\u001b[0;34m(\u001b[0m\u001b[0;34m)\u001b[0m\u001b[0;34m[\u001b[0m\u001b[0;36m7\u001b[0m\u001b[0;34m:\u001b[0m\u001b[0;36m13\u001b[0m\u001b[0;34m]\u001b[0m\u001b[0;34m.\u001b[0m\u001b[0mt\u001b[0m\u001b[0;34m(\u001b[0m\u001b[0;34m)\u001b[0m\u001b[0;34m\u001b[0m\u001b[0;34m\u001b[0m\u001b[0m\n\u001b[1;32m      3\u001b[0m \u001b[0mdata_signalslice\u001b[0m \u001b[0;34m=\u001b[0m \u001b[0mtorch\u001b[0m\u001b[0;34m.\u001b[0m\u001b[0mcat\u001b[0m\u001b[0;34m(\u001b[0m\u001b[0;34m(\u001b[0m\u001b[0mdata_train_x_1\u001b[0m\u001b[0;34m,\u001b[0m\u001b[0mdata_train_x_2\u001b[0m\u001b[0;34m)\u001b[0m\u001b[0;34m,\u001b[0m\u001b[0mdim\u001b[0m\u001b[0;34m=\u001b[0m\u001b[0;36m1\u001b[0m\u001b[0;34m)\u001b[0m\u001b[0;34m\u001b[0m\u001b[0;34m\u001b[0m\u001b[0m\n",
      "\u001b[0;31mNameError\u001b[0m: name 'data_sig_slice' is not defined"
     ]
    }
   ],
   "source": [
    "data_train_x_1 = data_sig_slice.t()[0:6].t()\n",
    "data_train_x_2 = data_sig_slice.t()[7:13].t()\n",
    "data_signalslice = torch.cat((data_train_x_1,data_train_x_2),dim=1)"
   ]
  },
  {
   "cell_type": "code",
   "execution_count": null,
   "metadata": {},
   "outputs": [],
   "source": []
  },
  {
   "cell_type": "code",
   "execution_count": 21,
   "metadata": {},
   "outputs": [],
   "source": [
    "data_train_x_1 = data_bkg.t()[0:6].t()\n",
    "data_train_x_2 = data_bkg.t()[7:13].t()\n",
    "data_test_bkg = torch.cat((data_train_x_1,data_train_x_2),dim=1)"
   ]
  },
  {
   "cell_type": "code",
   "execution_count": 22,
   "metadata": {},
   "outputs": [],
   "source": [
    "data_train_x_1 = data_signal.t()[0:6].t()\n",
    "data_train_x_2 = data_signal.t()[7:13].t()\n",
    "data_test_signal = torch.cat((data_train_x_1,data_train_x_2),dim=1)"
   ]
  },
  {
   "cell_type": "code",
   "execution_count": 28,
   "metadata": {},
   "outputs": [
    {
     "data": {
      "text/plain": [
       "Decoder_jet(\n",
       "  (linear1): Linear(in_features=3, out_features=6, bias=True)\n",
       "  (linear2): Linear(in_features=6, out_features=10, bias=True)\n",
       "  (linear3): Linear(in_features=10, out_features=20, bias=True)\n",
       "  (linear4): Linear(in_features=20, out_features=30, bias=True)\n",
       "  (linear5): Linear(in_features=30, out_features=48, bias=True)\n",
       "  (linear6): Linear(in_features=48, out_features=12, bias=True)\n",
       ")"
      ]
     },
     "execution_count": 28,
     "metadata": {},
     "output_type": "execute_result"
    }
   ],
   "source": [
    "model_enc.eval()\n",
    "model_dec.eval()"
   ]
  },
  {
   "cell_type": "code",
   "execution_count": 29,
   "metadata": {},
   "outputs": [],
   "source": [
    "z_bkg = model_enc(data_test_bkg[0:1000000].float().cuda()).data.cpu().numpy()\n",
    "z_signal = model_enc(data_test_signal[0:100000].float().cuda()).data.cpu().numpy()"
   ]
  },
  {
   "cell_type": "code",
   "execution_count": 30,
   "metadata": {},
   "outputs": [],
   "source": [
    "loss_bkg = torch.mean((model_dec(model_enc(data_test_bkg.float().cuda()))-data_test_bkg.float().cuda())**2,dim=1).data.cpu().numpy()\n",
    "loss_signal = torch.mean((model_dec(model_enc(data_test_signal.float().cuda()))-data_test_signal.float().cuda())**2,dim=1).data.cpu().numpy()"
   ]
  },
  {
   "cell_type": "code",
   "execution_count": 31,
   "metadata": {},
   "outputs": [],
   "source": [
    "loss_bkg_truncated = loss_bkg[np.where(loss_bkg<5)[0]]\n",
    "loss_signal_truncated = loss_signal[np.where(loss_signal<5)[0]]"
   ]
  },
  {
   "cell_type": "code",
   "execution_count": 32,
   "metadata": {},
   "outputs": [
    {
     "data": {
      "text/plain": [
       "[]"
      ]
     },
     "execution_count": 32,
     "metadata": {},
     "output_type": "execute_result"
    },
    {
     "data": {
      "image/png": "[encoded data removed]",
      "text/plain": [
       "<Figure size 720x720 with 1 Axes>"
      ]
     },
     "metadata": {
      "needs_background": "light"
     },
     "output_type": "display_data"
    }
   ],
   "source": [
    "plt.rcParams[\"figure.figsize\"] = (10,10)\n",
    "plt.hist(loss_bkg,500)\n",
    "plt.hist(loss_signal,500)\n",
    "plt.xlim([0,50])\n",
    "plt.semilogy()\n",
    "#plt.ylim([0,500])"
   ]
  },
  {
   "cell_type": "code",
   "execution_count": 33,
   "metadata": {},
   "outputs": [],
   "source": [
    "onlybkg_selected_idx = np.where(loss_bkg>1.5)[0]"
   ]
  },
  {
   "cell_type": "code",
   "execution_count": 34,
   "metadata": {},
   "outputs": [],
   "source": [
    "dt_bkg = dt[bkg_idx]"
   ]
  },
  {
   "cell_type": "code",
   "execution_count": 35,
   "metadata": {},
   "outputs": [
    {
     "data": {
      "text/plain": [
       "(1000000, 16)"
      ]
     },
     "execution_count": 35,
     "metadata": {},
     "output_type": "execute_result"
    }
   ],
   "source": [
    "dt_bkg.shape"
   ]
  },
  {
   "cell_type": "code",
   "execution_count": 34,
   "metadata": {},
   "outputs": [],
   "source": [
    "TEST_onybkg_selection_bkgautoencoder = dt_bkg[onlybkg_selected_idx,14]"
   ]
  },
  {
   "cell_type": "code",
   "execution_count": 35,
   "metadata": {},
   "outputs": [
    {
     "data": {
      "image/png": "[encoded data removed]",
      "text/plain": [
       "<Figure size 720x720 with 1 Axes>"
      ]
     },
     "metadata": {
      "needs_background": "light"
     },
     "output_type": "display_data"
    }
   ],
   "source": [
    "plt.rcParams[\"figure.figsize\"] = (10,10)\n",
    "plt.hist(TEST_onybkg_selection_bkgautoencoder,100)\n",
    "plt.savefig('backgroundMorphing_with_bkgAE.png')"
   ]
  },
  {
   "cell_type": "code",
   "execution_count": 36,
   "metadata": {},
   "outputs": [
    {
     "data": {
      "image/png": "[encoded data removed]",
      "text/plain": [
       "<Figure size 720x720 with 1 Axes>"
      ]
     },
     "metadata": {
      "needs_background": "light"
     },
     "output_type": "display_data"
    }
   ],
   "source": [
    "plt.rcParams[\"figure.figsize\"] = (10,10)\n",
    "plt.hist(TEST_onybkg_selection_bkgautoencoder,100,density=True)\n",
    "plt.savefig('backgroundMorphing_with_bkgAE_Normalized.png')"
   ]
  },
  {
   "cell_type": "code",
   "execution_count": 37,
   "metadata": {},
   "outputs": [
    {
     "data": {
      "image/png": "[encoded data removed]",
      "text/plain": [
       "<Figure size 720x720 with 1 Axes>"
      ]
     },
     "metadata": {
      "needs_background": "light"
     },
     "output_type": "display_data"
    }
   ],
   "source": [
    "plt.rcParams[\"figure.figsize\"] = (10,10)\n",
    "plt.hist(dt_bkg[:,14],100)\n",
    "plt.savefig('defaultbackground_noselection.png')"
   ]
  },
  {
   "cell_type": "code",
   "execution_count": 38,
   "metadata": {},
   "outputs": [
    {
     "data": {
      "image/png": "[encoded data removed]",
      "text/plain": [
       "<Figure size 720x720 with 1 Axes>"
      ]
     },
     "metadata": {
      "needs_background": "light"
     },
     "output_type": "display_data"
    }
   ],
   "source": [
    "plt.rcParams[\"figure.figsize\"] = (10,10)\n",
    "plt.hist(dt_bkg[:,14],100,density=True)\n",
    "plt.savefig('defaultbackground_noselection_Normalized.png')"
   ]
  },
  {
   "cell_type": "code",
   "execution_count": 39,
   "metadata": {},
   "outputs": [
    {
     "data": {
      "image/png": "[encoded data removed]",
      "text/plain": [
       "<Figure size 720x720 with 1 Axes>"
      ]
     },
     "metadata": {
      "needs_background": "light"
     },
     "output_type": "display_data"
    }
   ],
   "source": [
    "plt.rcParams[\"figure.figsize\"] = (10,10)\n",
    "plt.hist(dt_bkg[:,14],100,density=True,alpha=0.4)\n",
    "plt.hist(TEST_onybkg_selection_bkgautoencoder,100,density=True,alpha=0.4)\n",
    "plt.savefig('backgroundmorphing_normalized_together.png')"
   ]
  },
  {
   "cell_type": "markdown",
   "metadata": {},
   "source": [
    "# NOW SIGNAL AUTOENCODER #"
   ]
  },
  {
   "cell_type": "code",
   "execution_count": 16,
   "metadata": {},
   "outputs": [],
   "source": [
    "sig_model_enc = Encoder_jet().cuda()\n",
    "sig_model_dec = Decoder_jet().cuda()"
   ]
  },
  {
   "cell_type": "code",
   "execution_count": 17,
   "metadata": {},
   "outputs": [],
   "source": [
    "lrs = 1e-4\n",
    "sig_optimizer_enc = optim.Adam(sig_model_enc.parameters(), lr = lrs)\n",
    "sig_optimizer_dec = optim.Adam(sig_model_dec.parameters(), lr = lrs)\n",
    "sig_loss = nn.MSELoss()"
   ]
  },
  {
   "cell_type": "code",
   "execution_count": 18,
   "metadata": {},
   "outputs": [],
   "source": [
    "bs = 64\n",
    "sig_dataset = utils.TensorDataset(data_test_signal,data_test_signal) \n",
    "sig_dataloader = utils.DataLoader(sig_dataset, batch_size=bs, shuffle=True) "
   ]
  },
  {
   "cell_type": "code",
   "execution_count": 42,
   "metadata": {},
   "outputs": [
    {
     "name": "stdout",
     "output_type": "stream",
     "text": [
      "Epoch: 0 Loss Training: 0.4075736\n",
      "Epoch: 1 Loss Training: 0.38312647\n",
      "Epoch: 2 Loss Training: 0.40238643\n",
      "Epoch: 3 Loss Training: 0.3857329\n",
      "Epoch: 4 Loss Training: 0.2610935\n",
      "Epoch: 5 Loss Training: 0.31277856\n",
      "Epoch: 6 Loss Training: 0.23536466\n",
      "Epoch: 7 Loss Training: 0.30095795\n",
      "Epoch: 8 Loss Training: 0.29633787\n",
      "Epoch: 9 Loss Training: 0.34299788\n"
     ]
    }
   ],
   "source": [
    "epochs = 10\n",
    "for epoch in range(epochs):\n",
    "    sig_model_enc.train()\n",
    "    sig_model_dec.train()\n",
    "    for i, dtt in enumerate(sig_dataloader):\n",
    "        sig_optimizer_enc.zero_grad()\n",
    "        sig_optimizer_dec.zero_grad()\n",
    "        \n",
    "        inp = dtt[0].float().cuda()\n",
    "        output = dtt[1].float().cuda()\n",
    "\n",
    "        ls = sig_loss(sig_model_dec(sig_model_enc(inp)),output)\n",
    "\n",
    "        ls.backward()\n",
    "        sig_optimizer_enc.step()\n",
    "        sig_optimizer_dec.step()\n",
    "    if epoch%1==0:\n",
    "        print(\"Epoch: \" + str(epoch), \"Loss Training: \" + str(ls.data.cpu().numpy()))"
   ]
  },
  {
   "cell_type": "code",
   "execution_count": 46,
   "metadata": {},
   "outputs": [],
   "source": [
    "torch.save(sig_model_enc.state_dict(), \"/data/t3home000/spark/LHCOlympics_previous/LHC-Olympics/Code/models/sigae_enc_mar06.h5\")\n",
    "torch.save(sig_model_dec.state_dict(), \"/data/t3home000/spark/LHCOlympics_previous/LHC-Olympics/Code/models/sigae_dec_mar06.h5\")\n"
   ]
  },
  {
   "cell_type": "code",
   "execution_count": 58,
   "metadata": {},
   "outputs": [],
   "source": [
    "f = pd.read_hdf(\"/data/t3home000/spark/LHCOlympics/data/Nsubjettiness_mjj_BlackBox3.h5\")\n",
    "dt = f.values\n",
    "dt[:,0] = (dt[:,0]-np.mean(dt[:,0]))/np.std(dt[:,0])\n",
    "dt[:,1] = (dt[:,1]-np.mean(dt[:,1]))/np.std(dt[:,1])\n",
    "dt[:,2] = (dt[:,2]-np.mean(dt[:,2]))/np.std(dt[:,2])\n",
    "dt[:,3] = (dt[:,3]-np.mean(dt[:,3]))/np.std(dt[:,3])\n",
    "dt[:,4] = (dt[:,4]-np.mean(dt[:,4]))/np.std(dt[:,4])\n",
    "dt[:,5] = (dt[:,5]-np.mean(dt[:,5]))/np.std(dt[:,5])\n",
    "\n",
    "dt[:,7] = (dt[:,7]-np.mean(dt[:,7]))/np.std(dt[:,7])\n",
    "dt[:,8] = (dt[:,8]-np.mean(dt[:,8]))/np.std(dt[:,8])\n",
    "dt[:,9] = (dt[:,9]-np.mean(dt[:,9]))/np.std(dt[:,9])\n",
    "dt[:,10] = (dt[:,10]-np.mean(dt[:,10]))/np.std(dt[:,10])\n",
    "dt[:,11] = (dt[:,11]-np.mean(dt[:,11]))/np.std(dt[:,11])\n",
    "dt[:,12] = (dt[:,12]-np.mean(dt[:,12]))/np.std(dt[:,12])\n",
    "data = torch.tensor(dt)\n",
    "data_train_x_1 = data.t()[0:6].t()\n",
    "data_train_x_2 = data.t()[7:13].t()\n",
    "data_bb1 = torch.cat((data_train_x_1,data_train_x_2),dim=1)"
   ]
  },
  {
   "cell_type": "code",
   "execution_count": 59,
   "metadata": {},
   "outputs": [],
   "source": [
    "signalAE_loss = torch.mean((sig_model_dec(sig_model_enc(data_bb1.float().cuda()))-data_bb1.float().cuda())**2,dim=1).data.cpu().numpy()"
   ]
  },
  {
   "cell_type": "code",
   "execution_count": 60,
   "metadata": {},
   "outputs": [],
   "source": [
    "np.save('/data/t3home000/spark/LHCOlympics/data/signalAE_loss_bb3.npy',signalAE_loss)"
   ]
  },
  {
   "cell_type": "code",
   "execution_count": 51,
   "metadata": {},
   "outputs": [],
   "source": [
    "f = pd.read_hdf(\"/data/t3home000/spark/LHCOlympics/data/MassRatio_pureBkg.h5\")\n",
    "dt = f.values\n",
    "dt[:,1] = (dt[:,1]-np.mean(dt[:,1]))/np.std(dt[:,1])\n",
    "dt[:,2] = (dt[:,2]-np.mean(dt[:,2]))/np.std(dt[:,2])\n",
    "dt[:,3] = (dt[:,3]-np.mean(dt[:,3]))/np.std(dt[:,3])\n",
    "dt[:,4] = (dt[:,4]-np.mean(dt[:,4]))/np.std(dt[:,4])\n",
    "dt[:,5] = (dt[:,5]-np.mean(dt[:,5]))/np.std(dt[:,5])\n",
    "dt[:,6] = (dt[:,6]-np.mean(dt[:,6]))/np.std(dt[:,6])\n",
    "\n",
    "dt[:,14] = (dt[:,14]-np.mean(dt[:,14]))/np.std(dt[:,14])\n",
    "dt[:,15] = (dt[:,15]-np.mean(dt[:,15]))/np.std(dt[:,15])\n",
    "dt[:,16] = (dt[:,16]-np.mean(dt[:,16]))/np.std(dt[:,16])\n",
    "dt[:,17] = (dt[:,17]-np.mean(dt[:,17]))/np.std(dt[:,17])\n",
    "dt[:,18] = (dt[:,18]-np.mean(dt[:,18]))/np.std(dt[:,18])\n",
    "dt[:,19] = (dt[:,19]-np.mean(dt[:,19]))/np.std(dt[:,19])\n",
    "data = torch.tensor(dt)\n",
    "data_train_x_1 = data.t()[1:7].t()\n",
    "data_train_x_2 = data.t()[14:20].t()\n",
    "data_bkg = torch.cat((data_train_x_1,data_train_x_2),dim=1)"
   ]
  },
  {
   "cell_type": "code",
   "execution_count": 52,
   "metadata": {},
   "outputs": [],
   "source": [
    "signalAE_loss_purebkg = torch.mean((sig_model_dec(sig_model_enc(data_bkg.float().cuda()))-data_bkg.float().cuda())**2,dim=1).data.cpu().numpy()"
   ]
  },
  {
   "cell_type": "code",
   "execution_count": 53,
   "metadata": {},
   "outputs": [],
   "source": [
    "np.save('/data/t3home000/spark/LHCOlympics/data/signalAE_loss_purebkg_try2.npy',signalAE_loss_purebkg)"
   ]
  },
  {
   "cell_type": "code",
   "execution_count": 54,
   "metadata": {},
   "outputs": [],
   "source": [
    "np.save('/data/t3home000/spark/LHCOlympics/data/signalAE_loss_bb1.npy',signalAE_loss)"
   ]
  },
  {
   "cell_type": "code",
   "execution_count": 47,
   "metadata": {},
   "outputs": [],
   "source": [
    "signalAE_loss_bkg = torch.mean((sig_model_dec(sig_model_enc(data_test_bkg.float().cuda()))-data_test_bkg.float().cuda())**2,dim=1).data.cpu().numpy()\n",
    "signalAE_loss_signal = torch.mean((sig_model_dec(sig_model_enc(data_test_signal.float().cuda()))-data_test_signal.float().cuda())**2,dim=1).data.cpu().numpy()"
   ]
  },
  {
   "cell_type": "code",
   "execution_count": 24,
   "metadata": {},
   "outputs": [],
   "source": [
    "signalAE_loss_bkg_truncated = signalAE_loss_bkg[np.where(signalAE_loss_bkg<5)[0]]\n",
    "signalAE_loss_signal_truncated = signalAE_loss_signal[np.where(signalAE_loss_signal<5)[0]]"
   ]
  },
  {
   "cell_type": "code",
   "execution_count": 48,
   "metadata": {},
   "outputs": [
    {
     "data": {
      "text/plain": [
       "(0, 5)"
      ]
     },
     "execution_count": 48,
     "metadata": {},
     "output_type": "execute_result"
    },
    {
     "data": {
      "image/png": "[encoded data removed]",
      "text/plain": [
       "<Figure size 720x720 with 1 Axes>"
      ]
     },
     "metadata": {
      "needs_background": "light"
     },
     "output_type": "display_data"
    }
   ],
   "source": [
    "plt.rcParams[\"figure.figsize\"] = (10,10)\n",
    "plt.hist(signalAE_loss_bkg,5000)\n",
    "plt.hist(signalAE_loss_signal,5000)\n",
    "plt.xlim([0,5])\n",
    "#plt.ylim([0,500])"
   ]
  },
  {
   "cell_type": "code",
   "execution_count": null,
   "metadata": {},
   "outputs": [],
   "source": []
  },
  {
   "cell_type": "code",
   "execution_count": 44,
   "metadata": {},
   "outputs": [],
   "source": [
    "def get_tpr_fpr(sigloss,bkgloss,aetype='sig'):\n",
    "    bins = np.linspace(0,50,1001)\n",
    "    tpr = []\n",
    "    fpr = []\n",
    "    for cut in bins:\n",
    "        if aetype == 'sig':\n",
    "            tpr.append(np.where(sigloss<cut)[0].shape[0]/len(sigloss))\n",
    "            fpr.append(np.where(bkgloss<cut)[0].shape[0]/len(bkgloss))\n",
    "        if aetype == 'bkg':\n",
    "            tpr.append(np.where(sigloss>cut)[0].shape[0]/len(sigloss))\n",
    "            fpr.append(np.where(bkgloss>cut)[0].shape[0]/len(bkgloss))\n",
    "    return tpr,fpr        "
   ]
  },
  {
   "cell_type": "code",
   "execution_count": 75,
   "metadata": {},
   "outputs": [],
   "source": [
    "def get_tpr_fpr_2d(sigae_sigloss,sigae_bkgloss,bkgae_sigloss,bkgae_bkgloss):\n",
    "    bins_sigae = np.linspace(0,50,501)\n",
    "    bins_bkgae = np.linspace(0,50,501)\n",
    "    tpr = []\n",
    "    fpr = []\n",
    "    for sigcut in bins_sigae:\n",
    "        for bkgcut in bins_bkgae:\n",
    "            tpr_t = np.where((sigae_sigloss<sigcut)&(bkgae_sigloss>bkgcut))[0].shape[0]/len(sigae_sigloss)\n",
    "            fpr_t = np.where((sigae_bkgloss<sigcut)&(bkgae_bkgloss>bkgcut))[0].shape[0]/len(sigae_bkgloss)\n",
    "            tpr.append(tpr_t)\n",
    "            fpr.append(fpr_t)\n",
    "                \n",
    "\n",
    "    return tpr,fpr        "
   ]
  },
  {
   "cell_type": "code",
   "execution_count": 46,
   "metadata": {},
   "outputs": [],
   "source": [
    "def get_tpr_fpr_2d_new(sigae_sigloss,sigae_bkgloss,bkgae_sigloss,bkgae_bkgloss):\n",
    "    bins_sigae = np.linspace(0,50,501)\n",
    "    bins_bkgae = np.linspace(0,50,501)\n",
    "    tpr = []\n",
    "    fpr = []\n",
    "    for sigcut in bins_sigae:\n",
    "        compare = -0.1\n",
    "        tpr_temp = 0\n",
    "        fpr_temp = 0 \n",
    "        for bkgcut in bins_bkgae:\n",
    "            tpr_t = np.where((sigae_sigloss<sigcut)&(bkgae_sigloss>bkgcut))[0].shape[0]/len(sigae_sigloss)\n",
    "            fpr_t = np.where((sigae_bkgloss<sigcut)&(bkgae_bkgloss>bkgcut))[0].shape[0]/len(sigae_bkgloss)\n",
    "            if fpr_t == 0:\n",
    "                fpr_t = 1000000000\n",
    "            ratio = tpr_t/fpr_t\n",
    "            if ratio > compare:\n",
    "                compare = ratio\n",
    "                tpr_temp = tpr_t\n",
    "                fpr_temp = fpr_t\n",
    "        tpr.append(tpr_temp)\n",
    "        fpr.append(fpr_temp)\n",
    "                \n",
    "\n",
    "    return tpr,fpr        "
   ]
  },
  {
   "cell_type": "code",
   "execution_count": 99,
   "metadata": {},
   "outputs": [],
   "source": [
    "sig_tpr, sig_fpr = get_tpr_fpr(signalAE_loss_signal,signalAE_loss_bkg,aetype='sig')"
   ]
  },
  {
   "cell_type": "code",
   "execution_count": 45,
   "metadata": {},
   "outputs": [],
   "source": [
    "bkg_tpr, bkg_fpr = get_tpr_fpr(loss_signal,loss_bkg,aetype='bkg')"
   ]
  },
  {
   "cell_type": "code",
   "execution_count": 108,
   "metadata": {},
   "outputs": [],
   "source": [
    "twod_tpr, twod_fpr = get_tpr_fpr_2d(signalAE_loss_signal,signalAE_loss_bkg,loss_signal,loss_bkg)"
   ]
  },
  {
   "cell_type": "code",
   "execution_count": 47,
   "metadata": {},
   "outputs": [],
   "source": [
    "bkgaeloss_sig_nf = np.load('/home/spark/LHCOlympics/LHC-Olympics/Code/NFLOWVAE_bkgAE_loss_sig.npy')\n",
    "bkgaeloss_bkg_nf = np.load('/home/spark/LHCOlympics/LHC-Olympics/Code/NFLOWVAE_bkgAE_loss_bkg.npy')"
   ]
  },
  {
   "cell_type": "code",
   "execution_count": 101,
   "metadata": {},
   "outputs": [],
   "source": [
    "twod_nflowbkg_tpr, twod_nflowbkg_fpr = get_tpr_fpr_2d(signalAE_loss_signal,signalAE_loss_bkg,bkgaeloss_sig_nf,bkgaeloss_bkg_nf)"
   ]
  },
  {
   "cell_type": "code",
   "execution_count": 48,
   "metadata": {},
   "outputs": [],
   "source": [
    "twod_nflowbkg_tau21sig_tpr, twod_nflowbkg_tau21sig_fpr = get_tpr_fpr_2d(signalAE_loss_signal,signalAE_loss_bkg,bkgaeloss_sig_nf,bkgaeloss_bkg_nf)"
   ]
  },
  {
   "cell_type": "code",
   "execution_count": 49,
   "metadata": {},
   "outputs": [],
   "source": [
    "twod_nflowbkg_tau21sig_tpr.append(0)\n",
    "twod_nflowbkg_tau21sig_fpr.append(1)\n",
    "twod_nflowbkg_tau21sig_tpr.append(0)\n",
    "twod_nflowbkg_tau21sig_fpr.append(0)\n",
    "twod_nflowbkg_tau21sig_tpr.append(1)\n",
    "twod_nflowbkg_tau21sig_fpr.append(1)"
   ]
  },
  {
   "cell_type": "code",
   "execution_count": 121,
   "metadata": {},
   "outputs": [],
   "source": [
    "twod_nflowbkg_tpr.append(0)\n",
    "twod_nflowbkg_fpr.append(1)\n",
    "twod_nflowbkg_tpr.append(0)\n",
    "twod_nflowbkg_fpr.append(0)\n",
    "twod_nflowbkg_tpr.append(1)\n",
    "twod_nflowbkg_fpr.append(1)"
   ]
  },
  {
   "cell_type": "code",
   "execution_count": 50,
   "metadata": {},
   "outputs": [],
   "source": [
    "from scipy.spatial import ConvexHull"
   ]
  },
  {
   "cell_type": "code",
   "execution_count": 108,
   "metadata": {},
   "outputs": [],
   "source": [
    "points2 = np.array([twod_nflowbkg_tau21sig_fpr,twod_nflowbkg_tau21sig_tpr])"
   ]
  },
  {
   "cell_type": "code",
   "execution_count": 109,
   "metadata": {},
   "outputs": [],
   "source": [
    "points2 = points2.transpose()"
   ]
  },
  {
   "cell_type": "code",
   "execution_count": 113,
   "metadata": {},
   "outputs": [
    {
     "data": {
      "text/plain": [
       "(251004, 2)"
      ]
     },
     "execution_count": 113,
     "metadata": {},
     "output_type": "execute_result"
    }
   ],
   "source": [
    "points2.shape"
   ]
  },
  {
   "cell_type": "code",
   "execution_count": 111,
   "metadata": {},
   "outputs": [],
   "source": [
    "hull2 = ConvexHull(points2)"
   ]
  },
  {
   "cell_type": "code",
   "execution_count": 122,
   "metadata": {},
   "outputs": [],
   "source": [
    "points = np.array([twod_nflowbkg_fpr,twod_nflowbkg_tpr])"
   ]
  },
  {
   "cell_type": "code",
   "execution_count": 123,
   "metadata": {},
   "outputs": [],
   "source": [
    "points = points.transpose()"
   ]
  },
  {
   "cell_type": "code",
   "execution_count": 124,
   "metadata": {},
   "outputs": [
    {
     "data": {
      "text/plain": [
       "(251004, 2)"
      ]
     },
     "execution_count": 124,
     "metadata": {},
     "output_type": "execute_result"
    }
   ],
   "source": [
    "points.shape"
   ]
  },
  {
   "cell_type": "code",
   "execution_count": 125,
   "metadata": {},
   "outputs": [],
   "source": [
    "hull1 = ConvexHull(points)"
   ]
  },
  {
   "cell_type": "code",
   "execution_count": 119,
   "metadata": {},
   "outputs": [
    {
     "ename": "NameError",
     "evalue": "name 'points1' is not defined",
     "output_type": "error",
     "traceback": [
      "\u001b[0;31m---------------------------------------------------------------------------\u001b[0m",
      "\u001b[0;31mNameError\u001b[0m                                 Traceback (most recent call last)",
      "\u001b[0;32m<ipython-input-119-79af5e74c932>\u001b[0m in \u001b[0;36m<module>\u001b[0;34m\u001b[0m\n\u001b[0;32m----> 1\u001b[0;31m \u001b[0mplt\u001b[0m\u001b[0;34m.\u001b[0m\u001b[0mplot\u001b[0m\u001b[0;34m(\u001b[0m\u001b[0mpoints1\u001b[0m\u001b[0;34m[\u001b[0m\u001b[0mhull1\u001b[0m\u001b[0;34m.\u001b[0m\u001b[0mvertices\u001b[0m\u001b[0;34m,\u001b[0m\u001b[0;36m0\u001b[0m\u001b[0;34m]\u001b[0m\u001b[0;34m,\u001b[0m \u001b[0mpoints1\u001b[0m\u001b[0;34m[\u001b[0m\u001b[0mhull1\u001b[0m\u001b[0;34m.\u001b[0m\u001b[0mvertices\u001b[0m\u001b[0;34m,\u001b[0m\u001b[0;36m1\u001b[0m\u001b[0;34m]\u001b[0m\u001b[0;34m,\u001b[0m \u001b[0;34m'r--'\u001b[0m\u001b[0;34m,\u001b[0m \u001b[0mlw\u001b[0m\u001b[0;34m=\u001b[0m\u001b[0;36m2\u001b[0m\u001b[0;34m)\u001b[0m\u001b[0;34m\u001b[0m\u001b[0;34m\u001b[0m\u001b[0m\n\u001b[0m",
      "\u001b[0;31mNameError\u001b[0m: name 'points1' is not defined"
     ]
    }
   ],
   "source": [
    "plt.plot(points2[hull2.vertices,0], points1[hull1.vertices,1], 'r--', lw=2)"
   ]
  },
  {
   "cell_type": "code",
   "execution_count": 86,
   "metadata": {},
   "outputs": [],
   "source": [
    "y_true = np.load('/home/spark/LHCOlympics/LHC-Olympics/Code/supervised_truth.npy')\n",
    "scores = np.load('/home/spark/LHCOlympics/LHC-Olympics/Code/supervised_score.npy')"
   ]
  },
  {
   "cell_type": "code",
   "execution_count": 64,
   "metadata": {},
   "outputs": [],
   "source": [
    "nflow_bkg_fpr = np.load('/home/spark/LHCOlympics/LHC-Olympics/Code/NFLOWVAE_bkgAE_fpr.npy')\n",
    "nflow_bkg_tpr = np.load('/home/spark/LHCOlympics/LHC-Olympics/Code/NFLOWVAE_bkgAE_tpr.npy')"
   ]
  },
  {
   "cell_type": "code",
   "execution_count": 88,
   "metadata": {},
   "outputs": [],
   "source": [
    "from sklearn.metrics import roc_curve\n",
    "fpr, tpr, thresholds = roc_curve(y_true, scores)"
   ]
  },
  {
   "cell_type": "code",
   "execution_count": 112,
   "metadata": {},
   "outputs": [],
   "source": [
    "np.save('/home/spark/LHCOlympics/LHC-Olympics/Code/AE_sigAE_fpr.npy',sig_fpr)\n",
    "np.save('/home/spark/LHCOlympics/LHC-Olympics/Code/AE_sigAE_tpr.npy',sig_tpr)\n",
    "np.save('/home/spark/LHCOlympics/LHC-Olympics/Code/AE_bkgAE_fpr.npy',bkg_fpr)\n",
    "np.save('/home/spark/LHCOlympics/LHC-Olympics/Code/AE_bkgAE_tpr.npy',bkg_tpr)"
   ]
  },
  {
   "cell_type": "code",
   "execution_count": 145,
   "metadata": {},
   "outputs": [
    {
     "data": {
      "text/plain": [
       "array([     0, 251001, 251003, 196896, 196897, 196898, 196899, 196900,\n",
       "         9526,   9025,   8023,   8024,   7022,   6521,   7023,   6522,\n",
       "         6021,   5520,   5521,   5020,   4519,   5021,   4520,   4019,\n",
       "         4020,   3519,   3018,   3019,   2518,   2519,   2018,   2019,\n",
       "         2020,   1517,   1518,   1519,   1520,   1017,   1018,   1019,\n",
       "          515,    516,    517,    524,    533,   1051], dtype=int32)"
      ]
     },
     "execution_count": 145,
     "metadata": {},
     "output_type": "execute_result"
    }
   ],
   "source": [
    "hull1.vertices"
   ]
  },
  {
   "cell_type": "code",
   "execution_count": 147,
   "metadata": {},
   "outputs": [
    {
     "data": {
      "image/png": "[encoded data removed]",
      "text/plain": [
       "<Figure size 720x720 with 1 Axes>"
      ]
     },
     "metadata": {
      "needs_background": "light"
     },
     "output_type": "display_data"
    }
   ],
   "source": [
    "plt.plot(sig_fpr,sig_tpr,label='Sig Autoencoder trained on complete signal')\n",
    "plt.plot(sig_tau21cut_fpr,sig_tau21cut_tpr,label='Sig Autoencoder trained on signal with tau cut')\n",
    "#plt.plot(bkg_fpr,bkg_tpr,label='Bkg Autoencoder')\n",
    "plt.plot(nflow_bkg_fpr,nflow_bkg_tpr,label='Bkg NFlow-VAE')\n",
    "\n",
    "#plt.plot(twod_fpr,twod_tpr,'bo',label='AE 2dscan',markersize=2)\n",
    "#plt.plot(twod_nflowbkg_fpr,twod_nflowbkg_tpr,'bo',label='AE 2dscan',markersize=2,alpha=0.7)\n",
    "#plt.plot(twod_nflowbkg_tau21sig_fpr, twod_nflowbkg_tau21sig_tpr,'ro',label='2dscan with cut signal',markersize=2,alpha=0.7)\n",
    "plt.plot(points[hull1.vertices[2:],0], points[hull1.vertices[2:],1], 'b--', lw=2,label='2dscan with complete signal')\n",
    "plt.plot(points2[hull2.vertices[2:],0], points2[hull2.vertices[2:],1], 'r--', lw=2,label='2dscan with incomplete signal')\n",
    "\n",
    "#plt.plot(fpr,tpr,label='Supervised')\n",
    "plt.xlabel(r'$1-\\epsilon_{bkg}$',fontsize=15)\n",
    "plt.ylabel(r'$\\epsilon_{sig}$',fontsize=15)\n",
    "#plt.semilogy()\n",
    "plt.legend(loc='lower right')\n",
    "plt.xlim([0.0,1.0])\n",
    "plt.ylim([0.0,1.0])\n",
    "plt.savefig('ROC_Curve_ver3.png')"
   ]
  },
  {
   "cell_type": "code",
   "execution_count": null,
   "metadata": {},
   "outputs": [],
   "source": [
    "total_data = torch.tensor(dt)\n",
    "total_data_train_x_1 = total_data.t()[0:6].t()\n",
    "total_data_train_x_2 = total_data.t()[7:13].t()\n",
    "total_data_selection = torch.cat((total_data_train_x_1,total_data_train_x_2),dim=1)"
   ]
  },
  {
   "cell_type": "code",
   "execution_count": null,
   "metadata": {},
   "outputs": [],
   "source": [
    "signalAE_loss_total = torch.mean((sig_model_dec(sig_model_enc(total_data_selection.float().cuda()))-total_data_selection.float().cuda())**2,dim=1).data.cpu().numpy()\n",
    "loss_total = torch.mean((model_dec(model_enc(total_data_selection.float().cuda()))-total_data_selection.float().cuda())**2,dim=1).data.cpu().numpy()\n"
   ]
  },
  {
   "cell_type": "code",
   "execution_count": null,
   "metadata": {},
   "outputs": [],
   "source": [
    "plt.rcParams[\"figure.figsize\"] = (10,10)\n",
    "plt.plot(loss_total,signalAE_loss_total,\"b.\",alpha=1)\n",
    "plt.xlim([1.5,2.3])\n",
    "plt.ylim([0,0.5])"
   ]
  },
  {
   "cell_type": "code",
   "execution_count": null,
   "metadata": {},
   "outputs": [],
   "source": [
    "plt.rcParams[\"figure.figsize\"] = (10,10)\n",
    "plt.hist(signalAE_loss_total,5000)\n",
    "plt.xlim([0,2])"
   ]
  },
  {
   "cell_type": "code",
   "execution_count": null,
   "metadata": {},
   "outputs": [],
   "source": [
    "selection_sig_idx = np.where((loss_total>1.5) & (signalAE_loss_total<0.5))[0]"
   ]
  },
  {
   "cell_type": "code",
   "execution_count": null,
   "metadata": {},
   "outputs": [],
   "source": [
    "print(selection_sig_idx)"
   ]
  },
  {
   "cell_type": "code",
   "execution_count": null,
   "metadata": {},
   "outputs": [],
   "source": [
    "selectedmass = dt[selection_sig_idx,14]"
   ]
  },
  {
   "cell_type": "code",
   "execution_count": null,
   "metadata": {},
   "outputs": [],
   "source": [
    "print(selectedmass)"
   ]
  },
  {
   "cell_type": "code",
   "execution_count": null,
   "metadata": {},
   "outputs": [],
   "source": [
    "plt.rcParams[\"figure.figsize\"] = (10,10)\n",
    "plt.hist(selectedmass,50)\n",
    "plt.savefig('selectedmass_with_bothAE.png')"
   ]
  },
  {
   "cell_type": "code",
   "execution_count": null,
   "metadata": {},
   "outputs": [],
   "source": [
    "TEST_selection_based_on_bkg_idx = np.where((loss_total>1.5))[0]"
   ]
  },
  {
   "cell_type": "code",
   "execution_count": null,
   "metadata": {},
   "outputs": [],
   "source": [
    "TEST_selection_based_on_bkg_selectedmass = dt[TEST_selection_based_on_bkg_idx,14]"
   ]
  },
  {
   "cell_type": "code",
   "execution_count": null,
   "metadata": {},
   "outputs": [],
   "source": [
    "plt.rcParams[\"figure.figsize\"] = (10,10)\n",
    "plt.hist(TEST_selection_based_on_bkg_selectedmass,50)\n",
    "plt.savefig('selectedmass_with_bkgAE.png')"
   ]
  },
  {
   "cell_type": "code",
   "execution_count": null,
   "metadata": {},
   "outputs": [],
   "source": []
  }
 ],
 "metadata": {
  "kernelspec": {
   "display_name": "Python 3",
   "language": "python",
   "name": "python3"
  },
  "language_info": {
   "codemirror_mode": {
    "name": "ipython",
    "version": 3
   },
   "file_extension": ".py",
   "mimetype": "text/x-python",
   "name": "python",
   "nbconvert_exporter": "python",
   "pygments_lexer": "ipython3",
   "version": "3.6.7"
  }
 },
 "nbformat": 4,
 "nbformat_minor": 2
}
