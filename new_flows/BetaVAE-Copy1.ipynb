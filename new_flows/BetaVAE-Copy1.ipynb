{
 "cells": [
  {
   "cell_type": "code",
   "execution_count": 2,
   "metadata": {},
   "outputs": [],
   "source": [
    "import tqdm\n",
    "import numpy as np \n",
    "import matplotlib.pyplot as plt\n",
    "import pandas as pd\n",
    "import torch \n",
    "import torch.nn as nn \n",
    "import torch.nn.functional as F \n",
    "import torch.optim as optim \n",
    "import torch.utils.data as utils\n",
    "import torch.nn.init as init\n",
    "from torch.autograd import Variable"
   ]
  },
  {
   "cell_type": "code",
   "execution_count": 3,
   "metadata": {},
   "outputs": [],
   "source": [
    "f = pd.read_hdf(\"Nsubjettiness_mjj.h5\")\n",
    "dt = f.values"
   ]
  },
  {
   "cell_type": "code",
   "execution_count": 4,
   "metadata": {},
   "outputs": [],
   "source": [
    "idx = dt[:,15]\n",
    "bkg_idx = np.where(idx==0)[0]\n",
    "signal_idx = np.where(idx==1)[0]"
   ]
  },
  {
   "cell_type": "markdown",
   "metadata": {},
   "source": [
    "# Normalize inputs#"
   ]
  },
  {
   "cell_type": "code",
   "execution_count": 5,
   "metadata": {},
   "outputs": [],
   "source": [
    "dt[:,0] = (dt[:,0]-np.mean(dt[:,0]))/np.std(dt[:,0])\n",
    "dt[:,1] = (dt[:,1]-np.mean(dt[:,1]))/np.std(dt[:,1])\n",
    "dt[:,2] = (dt[:,2]-np.mean(dt[:,2]))/np.std(dt[:,2])\n",
    "dt[:,3] = (dt[:,3]-np.mean(dt[:,3]))/np.std(dt[:,3])\n",
    "dt[:,4] = (dt[:,4]-np.mean(dt[:,4]))/np.std(dt[:,4])\n",
    "dt[:,5] = (dt[:,5]-np.mean(dt[:,5]))/np.std(dt[:,5])\n",
    "\n",
    "dt[:,7] = (dt[:,7]-np.mean(dt[:,7]))/np.std(dt[:,7])\n",
    "dt[:,8] = (dt[:,8]-np.mean(dt[:,8]))/np.std(dt[:,8])\n",
    "dt[:,9] = (dt[:,9]-np.mean(dt[:,9]))/np.std(dt[:,9])\n",
    "dt[:,10] = (dt[:,10]-np.mean(dt[:,10]))/np.std(dt[:,10])\n",
    "dt[:,11] = (dt[:,11]-np.mean(dt[:,11]))/np.std(dt[:,11])\n",
    "dt[:,12] = (dt[:,12]-np.mean(dt[:,12]))/np.std(dt[:,12])"
   ]
  },
  {
   "cell_type": "code",
   "execution_count": 6,
   "metadata": {},
   "outputs": [],
   "source": [
    "data = torch.tensor(dt[bkg_idx])\n",
    "data_train_x_1 = data.t()[0:6].t()\n",
    "data_train_x_2 = data.t()[7:13].t()\n",
    "data_train_x = torch.cat((data_train_x_1,data_train_x_2),dim=1)"
   ]
  },
  {
   "cell_type": "code",
   "execution_count": 7,
   "metadata": {},
   "outputs": [],
   "source": [
    "bs = 128\n",
    "my_dataset = utils.TensorDataset(data_train_x,data_train_x) # create your datset                                                                         \n",
    "my_dataloader = utils.DataLoader(my_dataset, batch_size=bs, shuffle=True) # create your dataloader"
   ]
  },
  {
   "cell_type": "code",
   "execution_count": 8,
   "metadata": {},
   "outputs": [],
   "source": [
    "def reconstruction_loss(x, x_recon):\n",
    "    recon_loss = F.mse_loss(x_recon, x)\n",
    "    return recon_loss"
   ]
  },
  {
   "cell_type": "code",
   "execution_count": 9,
   "metadata": {},
   "outputs": [],
   "source": [
    "def kl_divergence(mu, sigma):\n",
    "    klds = -0.5*(1 + 2*torch.log(sigma) - mu**2 - sigma**2)\n",
    "    mean_kld = torch.mean(klds)\n",
    "    return mean_kld"
   ]
  },
  {
   "cell_type": "code",
   "execution_count": 10,
   "metadata": {},
   "outputs": [],
   "source": [
    "def reparametrize(mu, sigma):\n",
    "    std = sigma\n",
    "    eps = Variable(std.data.new(std.size()).normal_())\n",
    "    return mu + std*eps"
   ]
  },
  {
   "cell_type": "code",
   "execution_count": 11,
   "metadata": {},
   "outputs": [],
   "source": [
    "class BetaVAE_H(nn.Module):\n",
    "\n",
    "    def __init__(self, z_dim=3):\n",
    "        super(BetaVAE_H, self).__init__()\n",
    "        self.z_dim = z_dim\n",
    "        \n",
    "        self.encoder = nn.Sequential(\n",
    "        nn.Linear(12, 48),\n",
    "        nn.LeakyReLU(True),\n",
    "        nn.Linear(48, 30),\n",
    "        nn.LeakyReLU(True),\n",
    "        nn.Linear(30, 20),\n",
    "        nn.LeakyReLU(True),\n",
    "        nn.Linear(20, 10),\n",
    "        nn.LeakyReLU(True),\n",
    "        nn.Linear(10, 6),\n",
    "        nn.LeakyReLU(True),\n",
    "        nn.Linear(6, z_dim*2)\n",
    "        )\n",
    "        \n",
    "        self.decoder = nn.Sequential(\n",
    "        nn.Linear(z_dim, 6),\n",
    "        nn.LeakyReLU(True),\n",
    "        nn.Linear(6, 10),\n",
    "        nn.LeakyReLU(True),\n",
    "        nn.Linear(10, 20),\n",
    "        nn.LeakyReLU(True),\n",
    "        nn.Linear(20, 30),\n",
    "        nn.LeakyReLU(True),\n",
    "        nn.Linear(30,48),\n",
    "        nn.LeakyReLU(True),\n",
    "        nn.Linear(48,12)    \n",
    "        )\n",
    "\n",
    "    def forward(self, x):\n",
    "        distributions = self.encoder(x)\n",
    "        mu = distributions[:,:self.z_dim]\n",
    "        sigma = F.sigmoid(distributions[:,self.z_dim:])*10+0.1\n",
    "        z = reparametrize(mu, sigma)\n",
    "                \n",
    "        x_recon = self.decoder(z)\n",
    "\n",
    "        return x_recon, mu, sigma, z"
   ]
  },
  {
   "cell_type": "code",
   "execution_count": 12,
   "metadata": {},
   "outputs": [
    {
     "data": {
      "text/plain": [
       "True"
      ]
     },
     "execution_count": 12,
     "metadata": {},
     "output_type": "execute_result"
    }
   ],
   "source": [
    "torch.cuda.is_available()"
   ]
  },
  {
   "cell_type": "code",
   "execution_count": 13,
   "metadata": {},
   "outputs": [
    {
     "name": "stdout",
     "output_type": "stream",
     "text": [
      "cuda:0\n"
     ]
    },
    {
     "data": {
      "text/plain": [
       "'GeForce RTX 2080 Ti'"
      ]
     },
     "execution_count": 13,
     "metadata": {},
     "output_type": "execute_result"
    }
   ],
   "source": [
    "device = torch.device(\"cuda:0\" if torch.cuda.is_available() else \"cpu\")\n",
    "print(device)\n",
    "torch.cuda.get_device_name(0)"
   ]
  },
  {
   "cell_type": "code",
   "execution_count": null,
   "metadata": {},
   "outputs": [],
   "source": []
  },
  {
   "cell_type": "code",
   "execution_count": 14,
   "metadata": {},
   "outputs": [],
   "source": [
    "model_VAE = BetaVAE_H().to(device)"
   ]
  },
  {
   "cell_type": "code",
   "execution_count": 15,
   "metadata": {},
   "outputs": [],
   "source": [
    "lrs = 1e-4\n",
    "optimizer_VAE = optim.Adam(model_VAE.parameters(), lr = lrs)"
   ]
  },
  {
   "cell_type": "code",
   "execution_count": null,
   "metadata": {},
   "outputs": [
    {
     "name": "stderr",
     "output_type": "stream",
     "text": [
      "  0%|          | 0/30 [00:00<?, ?it/s]/home/spark/miniconda3/envs/myenv/lib/python3.6/site-packages/torch/nn/functional.py:1351: UserWarning: nn.functional.sigmoid is deprecated. Use torch.sigmoid instead.\n",
      "  warnings.warn(\"nn.functional.sigmoid is deprecated. Use torch.sigmoid instead.\")\n",
      "  3%|▎         | 1/30 [00:35<17:03, 35.29s/it]"
     ]
    },
    {
     "name": "stdout",
     "output_type": "stream",
     "text": [
      "0.84701234 0.17390737 1.8679321\n"
     ]
    },
    {
     "name": "stderr",
     "output_type": "stream",
     "text": [
      "\r",
      "  7%|▋         | 2/30 [01:10<16:31, 35.41s/it]"
     ]
    },
    {
     "name": "stdout",
     "output_type": "stream",
     "text": [
      "0.84111595 0.20713148 1.8893634\n"
     ]
    },
    {
     "name": "stderr",
     "output_type": "stream",
     "text": [
      "\r",
      " 10%|█         | 3/30 [01:46<15:59, 35.53s/it]"
     ]
    },
    {
     "name": "stdout",
     "output_type": "stream",
     "text": [
      "0.7208182 0.17008862 1.6117251\n"
     ]
    },
    {
     "name": "stderr",
     "output_type": "stream",
     "text": [
      "\r",
      " 13%|█▎        | 4/30 [02:22<15:23, 35.53s/it]"
     ]
    },
    {
     "name": "stdout",
     "output_type": "stream",
     "text": [
      "0.8406431 0.18384147 1.8651277\n"
     ]
    },
    {
     "name": "stderr",
     "output_type": "stream",
     "text": [
      "\r",
      " 17%|█▋        | 5/30 [02:57<14:45, 35.43s/it]"
     ]
    },
    {
     "name": "stdout",
     "output_type": "stream",
     "text": [
      "0.8320089 0.21503179 1.8790495\n"
     ]
    },
    {
     "name": "stderr",
     "output_type": "stream",
     "text": [
      "\r",
      " 20%|██        | 6/30 [03:33<14:11, 35.46s/it]"
     ]
    },
    {
     "name": "stdout",
     "output_type": "stream",
     "text": [
      "0.81534487 0.22028133 1.8509711\n"
     ]
    },
    {
     "name": "stderr",
     "output_type": "stream",
     "text": [
      "\r",
      " 23%|██▎       | 7/30 [04:08<13:36, 35.50s/it]"
     ]
    },
    {
     "name": "stdout",
     "output_type": "stream",
     "text": [
      "0.8060202 0.24614196 1.8581823\n"
     ]
    },
    {
     "name": "stderr",
     "output_type": "stream",
     "text": [
      "\r",
      " 27%|██▋       | 8/30 [04:44<13:01, 35.51s/it]"
     ]
    },
    {
     "name": "stdout",
     "output_type": "stream",
     "text": [
      "0.7028103 0.23040187 1.6360224\n"
     ]
    },
    {
     "name": "stderr",
     "output_type": "stream",
     "text": [
      "\r",
      " 30%|███       | 9/30 [05:19<12:26, 35.57s/it]"
     ]
    },
    {
     "name": "stdout",
     "output_type": "stream",
     "text": [
      "0.7903616 0.26595283 1.846676\n"
     ]
    },
    {
     "name": "stderr",
     "output_type": "stream",
     "text": [
      "\r",
      " 33%|███▎      | 10/30 [05:55<11:52, 35.62s/it]"
     ]
    },
    {
     "name": "stdout",
     "output_type": "stream",
     "text": [
      "0.7567658 0.20158039 1.715112\n"
     ]
    },
    {
     "name": "stderr",
     "output_type": "stream",
     "text": [
      "\r",
      " 37%|███▋      | 11/30 [06:31<11:15, 35.57s/it]"
     ]
    },
    {
     "name": "stdout",
     "output_type": "stream",
     "text": [
      "0.69138354 0.24234235 1.6251094\n"
     ]
    },
    {
     "name": "stderr",
     "output_type": "stream",
     "text": [
      "\r",
      " 40%|████      | 12/30 [07:06<10:38, 35.50s/it]"
     ]
    },
    {
     "name": "stdout",
     "output_type": "stream",
     "text": [
      "0.70716435 0.21349475 1.6278235\n"
     ]
    },
    {
     "name": "stderr",
     "output_type": "stream",
     "text": [
      "\r",
      " 43%|████▎     | 13/30 [07:41<10:01, 35.38s/it]"
     ]
    },
    {
     "name": "stdout",
     "output_type": "stream",
     "text": [
      "0.8302278 0.26393044 1.924386\n"
     ]
    },
    {
     "name": "stderr",
     "output_type": "stream",
     "text": [
      "\r",
      " 47%|████▋     | 14/30 [08:17<09:27, 35.45s/it]"
     ]
    },
    {
     "name": "stdout",
     "output_type": "stream",
     "text": [
      "0.69762176 0.2424955 1.6377391\n"
     ]
    },
    {
     "name": "stderr",
     "output_type": "stream",
     "text": [
      "\r",
      " 50%|█████     | 15/30 [08:52<08:52, 35.51s/it]"
     ]
    },
    {
     "name": "stdout",
     "output_type": "stream",
     "text": [
      "0.7599914 0.25326818 1.773251\n"
     ]
    },
    {
     "name": "stderr",
     "output_type": "stream",
     "text": [
      "\r",
      " 53%|█████▎    | 16/30 [09:27<08:15, 35.39s/it]"
     ]
    },
    {
     "name": "stdout",
     "output_type": "stream",
     "text": [
      "0.84020615 0.2894019 1.9698142\n"
     ]
    },
    {
     "name": "stderr",
     "output_type": "stream",
     "text": [
      "\r",
      " 57%|█████▋    | 17/30 [10:03<07:40, 35.40s/it]"
     ]
    },
    {
     "name": "stdout",
     "output_type": "stream",
     "text": [
      "0.76905966 0.24685107 1.7849704\n"
     ]
    },
    {
     "name": "stderr",
     "output_type": "stream",
     "text": [
      "\r",
      " 60%|██████    | 18/30 [10:38<07:04, 35.33s/it]"
     ]
    },
    {
     "name": "stdout",
     "output_type": "stream",
     "text": [
      "0.71658015 0.20617303 1.6393334\n"
     ]
    },
    {
     "name": "stderr",
     "output_type": "stream",
     "text": [
      "\r",
      " 63%|██████▎   | 19/30 [11:14<06:30, 35.52s/it]"
     ]
    },
    {
     "name": "stdout",
     "output_type": "stream",
     "text": [
      "0.7247135 0.1806265 1.6300535\n"
     ]
    },
    {
     "name": "stderr",
     "output_type": "stream",
     "text": [
      "\r",
      " 67%|██████▋   | 20/30 [11:49<05:55, 35.50s/it]"
     ]
    },
    {
     "name": "stdout",
     "output_type": "stream",
     "text": [
      "0.7741101 0.23571555 1.7839357\n"
     ]
    },
    {
     "name": "stderr",
     "output_type": "stream",
     "text": [
      "\r",
      " 70%|███████   | 21/30 [12:25<05:19, 35.50s/it]"
     ]
    },
    {
     "name": "stdout",
     "output_type": "stream",
     "text": [
      "0.69655824 0.21611665 1.6092331\n"
     ]
    },
    {
     "name": "stderr",
     "output_type": "stream",
     "text": [
      "\r",
      " 73%|███████▎  | 22/30 [13:01<04:45, 35.70s/it]"
     ]
    },
    {
     "name": "stdout",
     "output_type": "stream",
     "text": [
      "0.96849823 0.24343881 2.1804352\n"
     ]
    },
    {
     "name": "stderr",
     "output_type": "stream",
     "text": [
      "\r",
      " 77%|███████▋  | 23/30 [13:36<04:08, 35.56s/it]"
     ]
    },
    {
     "name": "stdout",
     "output_type": "stream",
     "text": [
      "0.8277762 0.26224816 1.9178005\n"
     ]
    },
    {
     "name": "stderr",
     "output_type": "stream",
     "text": [
      "\r",
      " 80%|████████  | 24/30 [14:11<03:32, 35.45s/it]"
     ]
    },
    {
     "name": "stdout",
     "output_type": "stream",
     "text": [
      "0.7194715 0.21909338 1.6580365\n"
     ]
    },
    {
     "name": "stderr",
     "output_type": "stream",
     "text": [
      "\r",
      " 83%|████████▎ | 25/30 [14:48<02:58, 35.71s/it]"
     ]
    },
    {
     "name": "stdout",
     "output_type": "stream",
     "text": [
      "0.7283528 0.2111158 1.6678214\n"
     ]
    }
   ],
   "source": [
    "epochs = 30\n",
    "for epoch in tqdm.notebook.tqdm(range(epochs)):\n",
    "    model_VAE.train()\n",
    "    for i, dtt in enumerate(my_dataloader):\n",
    "        optimizer_VAE.zero_grad()\n",
    "        \n",
    "        x_0 = dtt[0].float().cuda()\n",
    "        x_recon, mu, sigma ,z = model_VAE(x_0)\n",
    "        \n",
    "        recon_loss = reconstruction_loss(x_0, x_recon)\n",
    "        \n",
    "        mean_kld = kl_divergence(mu, sigma)\n",
    "        \n",
    "        beta_vae_loss = 2*recon_loss + mean_kld\n",
    "        \n",
    "        beta_vae_loss.backward()\n",
    "        optimizer_VAE.step()\n",
    "\n",
    "    if epoch%1==0:\n",
    "        print(recon_loss.data.cpu().numpy(),mean_kld.data.cpu().numpy(),beta_vae_loss.data.cpu().numpy())"
   ]
  },
  {
   "cell_type": "code",
   "execution_count": 16,
   "metadata": {},
   "outputs": [],
   "source": [
    "data_bkg = torch.tensor(dt[bkg_idx])\n",
    "data_signal = torch.tensor(dt[signal_idx])"
   ]
  },
  {
   "cell_type": "code",
   "execution_count": 17,
   "metadata": {},
   "outputs": [],
   "source": [
    "data_train_x_1 = data_bkg.t()[0:6].t()\n",
    "data_train_x_2 = data_bkg.t()[7:13].t()\n",
    "data_test_bkg = torch.cat((data_train_x_1,data_train_x_2),dim=1)"
   ]
  },
  {
   "cell_type": "code",
   "execution_count": 18,
   "metadata": {},
   "outputs": [],
   "source": [
    "data_train_x_1 = data_signal.t()[0:6].t()\n",
    "data_train_x_2 = data_signal.t()[7:13].t()\n",
    "data_test_signal = torch.cat((data_train_x_1,data_train_x_2),dim=1)"
   ]
  },
  {
   "cell_type": "code",
   "execution_count": 19,
   "metadata": {},
   "outputs": [
    {
     "data": {
      "text/plain": [
       "BetaVAE_H(\n",
       "  (encoder): Sequential(\n",
       "    (0): Linear(in_features=12, out_features=48, bias=True)\n",
       "    (1): LeakyReLU(negative_slope=True)\n",
       "    (2): Linear(in_features=48, out_features=30, bias=True)\n",
       "    (3): LeakyReLU(negative_slope=True)\n",
       "    (4): Linear(in_features=30, out_features=20, bias=True)\n",
       "    (5): LeakyReLU(negative_slope=True)\n",
       "    (6): Linear(in_features=20, out_features=10, bias=True)\n",
       "    (7): LeakyReLU(negative_slope=True)\n",
       "    (8): Linear(in_features=10, out_features=6, bias=True)\n",
       "    (9): LeakyReLU(negative_slope=True)\n",
       "    (10): Linear(in_features=6, out_features=6, bias=True)\n",
       "  )\n",
       "  (decoder): Sequential(\n",
       "    (0): Linear(in_features=3, out_features=6, bias=True)\n",
       "    (1): LeakyReLU(negative_slope=True)\n",
       "    (2): Linear(in_features=6, out_features=10, bias=True)\n",
       "    (3): LeakyReLU(negative_slope=True)\n",
       "    (4): Linear(in_features=10, out_features=20, bias=True)\n",
       "    (5): LeakyReLU(negative_slope=True)\n",
       "    (6): Linear(in_features=20, out_features=30, bias=True)\n",
       "    (7): LeakyReLU(negative_slope=True)\n",
       "    (8): Linear(in_features=30, out_features=48, bias=True)\n",
       "    (9): LeakyReLU(negative_slope=True)\n",
       "    (10): Linear(in_features=48, out_features=12, bias=True)\n",
       "  )\n",
       ")"
      ]
     },
     "execution_count": 19,
     "metadata": {},
     "output_type": "execute_result"
    }
   ],
   "source": [
    "model_VAE.eval()"
   ]
  },
  {
   "cell_type": "code",
   "execution_count": 20,
   "metadata": {},
   "outputs": [],
   "source": [
    "reconstructed,_,_,_ = model_VAE(data_test_bkg.float().cuda())"
   ]
  },
  {
   "cell_type": "code",
   "execution_count": 21,
   "metadata": {},
   "outputs": [],
   "source": [
    "reconstructed_sig,_,_,_ = model_VAE(data_test_signal.float().cuda())"
   ]
  },
  {
   "cell_type": "code",
   "execution_count": 26,
   "metadata": {},
   "outputs": [],
   "source": [
    "loss_bkg = torch.mean((reconstructed-data_test_bkg.float().cuda())**2,dim=1).data.cpu().numpy()\n",
    "#loss_bkg = loss_bkg[np.where(loss_bkg<2)]\n",
    "loss_signal = torch.mean((reconstructed_sig-data_test_signal.float().cuda())**2,dim=1).data.cpu().numpy()\n",
    "#loss_signal = loss_signal[np.where(loss_signal<2)]"
   ]
  },
  {
   "cell_type": "code",
   "execution_count": 27,
   "metadata": {},
   "outputs": [],
   "source": [
    "def get_tpr_fpr(sigloss,bkgloss,aetype='sig'):\n",
    "    bins = np.linspace(0,50,1001)\n",
    "    tpr = []\n",
    "    fpr = []\n",
    "    for cut in bins:\n",
    "        if aetype == 'sig':\n",
    "            tpr.append(np.where(sigloss<cut)[0].shape[0]/len(sigloss))\n",
    "            fpr.append(np.where(bkgloss<cut)[0].shape[0]/len(bkgloss))\n",
    "        if aetype == 'bkg':\n",
    "            tpr.append(np.where(sigloss>cut)[0].shape[0]/len(sigloss))\n",
    "            fpr.append(np.where(bkgloss>cut)[0].shape[0]/len(bkgloss))\n",
    "    return tpr,fpr    "
   ]
  },
  {
   "cell_type": "code",
   "execution_count": 29,
   "metadata": {},
   "outputs": [],
   "source": [
    "bkg_tpr, bkg_fpr = get_tpr_fpr(loss_signal,loss_bkg,aetype='bkg')"
   ]
  },
  {
   "cell_type": "code",
   "execution_count": 30,
   "metadata": {},
   "outputs": [
    {
     "data": {
      "text/plain": [
       "[<matplotlib.lines.Line2D at 0x7f2f29070c50>]"
      ]
     },
     "execution_count": 30,
     "metadata": {},
     "output_type": "execute_result"
    },
    {
     "data": {
      "image/png": "[encoded data removed]",
      "text/plain": [
       "<Figure size 720x720 with 1 Axes>"
      ]
     },
     "metadata": {
      "needs_background": "light"
     },
     "output_type": "display_data"
    }
   ],
   "source": [
    "plt.plot(bkg_fpr,bkg_tpr,label='Bkg betaVAE')\n"
   ]
  },
  {
   "cell_type": "code",
   "execution_count": 31,
   "metadata": {},
   "outputs": [],
   "source": [
    "np.save('/data/t3home000/spark/QUASAR/new_flows/betaVAE_bkgAE_fpr.npy',bkg_fpr)\n",
    "np.save('/data/t3home000/spark/QUASAR/new_flows/betaVAE_bkgAE_tpr.npy',bkg_tpr)"
   ]
  },
  {
   "cell_type": "code",
   "execution_count": 23,
   "metadata": {},
   "outputs": [],
   "source": [
    "loss_sig_truncate = loss_signal[np.where(loss_signal<5)[0]]\n",
    "loss_bkg_truncate = loss_bkg[np.where(loss_bkg<5)[0]]"
   ]
  },
  {
   "cell_type": "code",
   "execution_count": 25,
   "metadata": {},
   "outputs": [
    {
     "data": {
      "image/png": "[encoded data removed]",
      "text/plain": [
       "<Figure size 720x720 with 1 Axes>"
      ]
     },
     "metadata": {
      "needs_background": "light"
     },
     "output_type": "display_data"
    }
   ],
   "source": [
    "plt.rcParams[\"figure.figsize\"] = (10,10)\n",
    "plt.hist(loss_bkg_truncate,500)\n",
    "plt.hist(loss_sig_truncate,500)\n",
    "plt.xlim([0,5])\n",
    "#plt.ylim([0,2000])\n",
    "plt.savefig('BetaVAE_loss_distribution_zoomed.png')\n"
   ]
  },
  {
   "cell_type": "code",
   "execution_count": null,
   "metadata": {},
   "outputs": [],
   "source": []
  },
  {
   "cell_type": "code",
   "execution_count": null,
   "metadata": {},
   "outputs": [],
   "source": []
  },
  {
   "cell_type": "code",
   "execution_count": 30,
   "metadata": {},
   "outputs": [],
   "source": [
    "total_data = torch.tensor(dt)\n",
    "total_data_train_x_1 = total_data.t()[0:6].t()\n",
    "total_data_train_x_2 = total_data.t()[7:13].t()\n",
    "total_data_selection = torch.cat((total_data_train_x_1,total_data_train_x_2),dim=1)"
   ]
  },
  {
   "cell_type": "code",
   "execution_count": 31,
   "metadata": {},
   "outputs": [],
   "source": [
    "reconstructed_tot,_,_,_ = model_VAE(total_data_selection.float().cuda())"
   ]
  },
  {
   "cell_type": "code",
   "execution_count": 32,
   "metadata": {},
   "outputs": [],
   "source": [
    "loss_total = torch.mean((reconstructed_tot-total_data_selection.float().cuda())**2,dim=1).data.cpu().numpy()\n"
   ]
  },
  {
   "cell_type": "code",
   "execution_count": 40,
   "metadata": {},
   "outputs": [],
   "source": [
    "TEST_selection_based_on_bkg_idx = np.where((loss_total>1.5))[0]"
   ]
  },
  {
   "cell_type": "code",
   "execution_count": 41,
   "metadata": {},
   "outputs": [],
   "source": [
    "TEST_selection_based_on_bkg_selectedmass = dt[TEST_selection_based_on_bkg_idx,14]"
   ]
  },
  {
   "cell_type": "code",
   "execution_count": 43,
   "metadata": {},
   "outputs": [
    {
     "data": {
      "image/png": "[encoded data removed]",
      "text/plain": [
       "<Figure size 720x720 with 1 Axes>"
      ]
     },
     "metadata": {
      "needs_background": "light"
     },
     "output_type": "display_data"
    }
   ],
   "source": [
    "plt.rcParams[\"figure.figsize\"] = (10,10)\n",
    "plt.hist(TEST_selection_based_on_bkg_selectedmass,50)\n",
    "plt.savefig('BetaVAE_with_bkgAE.png')"
   ]
  },
  {
   "cell_type": "code",
   "execution_count": null,
   "metadata": {},
   "outputs": [],
   "source": []
  },
  {
   "cell_type": "code",
   "execution_count": null,
   "metadata": {},
   "outputs": [],
   "source": []
  },
  {
   "cell_type": "code",
   "execution_count": null,
   "metadata": {},
   "outputs": [],
   "source": []
  }
 ],
 "metadata": {
  "kernelspec": {
   "display_name": "Python 3",
   "language": "python",
   "name": "python3"
  },
  "language_info": {
   "codemirror_mode": {
    "name": "ipython",
    "version": 3
   },
   "file_extension": ".py",
   "mimetype": "text/x-python",
   "name": "python",
   "nbconvert_exporter": "python",
   "pygments_lexer": "ipython3",
   "version": "3.6.7"
  }
 },
 "nbformat": 4,
 "nbformat_minor": 2
}
