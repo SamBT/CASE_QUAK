{
 "cells": [
  {
   "cell_type": "code",
   "execution_count": 1,
   "metadata": {},
   "outputs": [
    {
     "name": "stdout",
     "output_type": "stream",
     "text": [
      "Number of available CPUs: 80\n"
     ]
    }
   ],
   "source": [
    "import multiprocessing\n",
    "num_available_cpus = multiprocessing.cpu_count()\n",
    "\n",
    "print(\"Number of available CPUs:\", num_available_cpus)\n",
    "\n",
    "import sys\n",
    "\n",
    "import math\n",
    "import time\n",
    "import tqdm\n",
    "\n",
    "import numpy as np\n",
    "import scipy as sp\n",
    "from scipy import stats\n",
    "\n",
    "import itertools\n",
    "import logging\n",
    "import matplotlib.pyplot as plt\n",
    "\n",
    "import pandas as pd\n",
    "import h5py\n",
    "\n",
    "from sklearn.neural_network import MLPClassifier\n",
    "from sklearn.metrics import roc_curve, roc_auc_score\n",
    "\n",
    "import torch\n",
    "import torch.optim as optim\n",
    "import torch.nn as nn\n",
    "import torch.nn.init as init\n",
    "import torch.nn.functional as F\n",
    "from torch.distributions import MultivariateNormal\n",
    "import torch.utils.data as utils\n",
    "\n",
    "from argparse import ArgumentParser\n",
    "import re\n",
    "\n",
    "sys.path.append(\"../new_flows\")\n",
    "from flows import RealNVP, Planar, MAF\n",
    "from models import NormalizingFlowModel"
   ]
  },
  {
   "cell_type": "code",
   "execution_count": 2,
   "metadata": {},
   "outputs": [],
   "source": [
    "from nflows.flows.base import Flow\n",
    "from nflows.flows.autoregressive import MaskedAutoregressiveFlow\n",
    "from nflows.distributions.normal import StandardNormal\n",
    "from nflows.transforms.base import CompositeTransform\n",
    "from nflows.transforms.autoregressive import MaskedAffineAutoregressiveTransform, MaskedPiecewiseQuadraticAutoregressiveTransform, MaskedPiecewiseRationalQuadraticAutoregressiveTransform\n",
    "from nflows.transforms.permutations import ReversePermutation"
   ]
  },
  {
   "cell_type": "code",
   "execution_count": 3,
   "metadata": {},
   "outputs": [],
   "source": [
    "num_bkg_batches = 1\n",
    "num_sig_batches = 20\n",
    "\n",
    "Mjj_cut = 1200\n",
    "pt_cut = 550\n",
    "eta_cut = None\n",
    "box_cox = False"
   ]
  },
  {
   "cell_type": "code",
   "execution_count": 4,
   "metadata": {},
   "outputs": [],
   "source": [
    "num_features = 10\n",
    "NS_hidden_features = 40\n",
    "flow_type = 'NSQUAD' #Options are 'MAF', 'Planar' (not recommended), 'NSQUAD', and 'NSRATQUAD'"
   ]
  },
  {
   "cell_type": "code",
   "execution_count": 5,
   "metadata": {},
   "outputs": [
    {
     "name": "stdout",
     "output_type": "stream",
     "text": [
      "Device = cuda:0\n",
      "Number of threads: 80\n",
      "Number of interop threads: 80\n"
     ]
    }
   ],
   "source": [
    "torch.cuda.empty_cache()\n",
    "\n",
    "device = torch.device(\"cuda:0\" if torch.cuda.is_available() else \"cpu\")\n",
    "print(\"Device =\", device)\n",
    "torch.set_default_tensor_type('torch.cuda.FloatTensor') if torch.cuda.is_available() else print ('cpu')\n",
    "\n",
    "torch.set_num_threads(num_available_cpus)\n",
    "\n",
    "print(\"Number of threads:\", torch.get_num_threads())\n",
    "print(\"Number of interop threads:\", torch.get_num_interop_threads())"
   ]
  },
  {
   "cell_type": "code",
   "execution_count": 6,
   "metadata": {},
   "outputs": [
    {
     "name": "stdout",
     "output_type": "stream",
     "text": [
      "Keys: <KeysViewHDF5 ['event_info', 'jet1_PFCands', 'jet1_extraInfo', 'jet2_PFCands', 'jet2_extraInfo', 'jet_kinematics', 'truth_label']>\n"
     ]
    }
   ],
   "source": [
    "bkg_data = np.array([])\n",
    "\n",
    "for batch_number in range(num_bkg_batches): \n",
    "    train_batch = \"/nobackup/users/myunus/CASE_samples/BB_batch%s.h5\" % (batch_number)\n",
    "    f = h5py.File(train_batch, \"r\")\n",
    "    \n",
    "    if batch_number == 0: \n",
    "        print(\"Keys: %s\" % f.keys())\n",
    "    \n",
    "    jet_kinematics = f['jet_kinematics']\n",
    "    jet1_extraInfo = f['jet1_extraInfo']\n",
    "    jet2_extraInfo = f['jet2_extraInfo']\n",
    "    truth_label = f['truth_label']\n",
    "\n",
    "    np.seterr(invalid = 'ignore')\n",
    "\n",
    "    delta_eta = jet_kinematics[:,1]\n",
    "\n",
    "    Mjj = np.reshape(jet_kinematics[:,0], (-1,1))\n",
    "    Mj1 = np.reshape(jet_kinematics[:,5], (-1,1))\n",
    "    Mj2 = np.reshape(jet_kinematics[:,9], (-1,1))\n",
    "\n",
    "    jet1_pt = np.reshape(jet_kinematics[:,2], (-1,1))\n",
    "    jet2_pt = np.reshape(jet_kinematics[:,6], (-1,1))\n",
    "\n",
    "    jet1_tau1 = np.reshape(jet1_extraInfo[:,0], (-1,1))\n",
    "    jet1_tau2 = np.reshape(jet1_extraInfo[:,1], (-1,1))\n",
    "    jet1_tau3 = np.reshape(jet1_extraInfo[:,2], (-1,1))\n",
    "    jet1_tau4 = np.reshape(jet1_extraInfo[:,3], (-1,1))\n",
    "    #jet1_btagscore = np.reshape(jet1_extraInfo[:,5],(-1,1))\n",
    "    jet1_numpfconst = np.reshape(jet1_extraInfo[:,6],(-1,1))\n",
    "\n",
    "    jet1_tau21 = jet1_tau2 / jet1_tau1\n",
    "    jet1_tau32 = jet1_tau3 / jet1_tau2\n",
    "    jet1_tau43 = jet1_tau4 / jet1_tau3\n",
    "    jet1_sqrt_tau21 = np.sqrt(jet1_tau21) / jet1_tau1\n",
    "\n",
    "    jet2_tau1 = np.reshape(jet2_extraInfo[:,0], (-1,1))\n",
    "    jet2_tau2 = np.reshape(jet2_extraInfo[:,1], (-1,1))\n",
    "    jet2_tau3 = np.reshape(jet2_extraInfo[:,2], (-1,1))\n",
    "    jet2_tau4 = np.reshape(jet2_extraInfo[:,3], (-1,1))\n",
    "    #jet2_btagscore = np.reshape(jet2_extraInfo[:,5],(-1,1))\n",
    "    jet2_numpfconst = np.reshape(jet2_extraInfo[:,6],(-1,1))\n",
    "\n",
    "    jet2_tau21 = jet2_tau2 / jet2_tau1\n",
    "    jet2_tau32 = jet2_tau3 / jet2_tau2\n",
    "    jet2_tau43 = jet2_tau4 / jet2_tau3\n",
    "    jet2_sqrt_tau21 = np.sqrt(jet2_tau21) / jet2_tau1\n",
    "\n",
    "    truth_label = truth_label[:]\n",
    "    \n",
    "    data = np.concatenate((jet1_tau21, jet1_tau32, jet1_tau43, jet1_sqrt_tau21, jet1_numpfconst, \n",
    "                       jet2_tau21, jet2_tau32, jet2_tau43, jet2_sqrt_tau21, jet2_numpfconst), axis=1)\n",
    "\n",
    "    bkg_indices = np.where((truth_label == 0) \n",
    "                              & (Mjj > Mjj_cut) \n",
    "                              & (Mj1 > 0)\n",
    "                              & (Mj2 > 0)\n",
    "                              & (jet1_pt > pt_cut) \n",
    "                              & (jet2_pt > pt_cut)\n",
    "                              & (np.isfinite(jet1_tau21))\n",
    "                              & (np.isfinite(jet1_tau32))\n",
    "                              & (np.isfinite(jet1_tau43))\n",
    "                              & (np.isfinite(jet1_sqrt_tau21))\n",
    "                              & (np.isfinite(jet2_tau21))\n",
    "                              & (np.isfinite(jet2_tau32))\n",
    "                              & (np.isfinite(jet2_tau43))\n",
    "                              & (np.isfinite(jet2_sqrt_tau21)))[0]\n",
    "\n",
    "    if eta_cut is not None: \n",
    "        bkg_eta_indices = np.where((np.abs(delta_eta) < eta_cut))[0]\n",
    "        bkg_indices = np.intersect1d(bkg_indices, bkg_eta_indices)\n",
    "\n",
    "    if batch_number == 0: \n",
    "        bkg_data = data[bkg_indices]\n",
    "    else: \n",
    "        bkg_data = np.concatenate((bkg_data, data[bkg_indices]), axis=0)\n",
    "    \n",
    "    if box_cox: \n",
    "        \n",
    "        transformed_data = np.zeros(bkg_data.shape)\n",
    "        best_lambdas = []\n",
    "        for col in range(num_features): \n",
    "            boxcox_col, best_lambda = stats.boxcox(bkg_data[:,col] + np.abs(np.min(bkg_data[:,col])) + 1)\n",
    "            transformed_data[:,col] = boxcox_col\n",
    "            best_lambdas.append(best_lambda)\n",
    "\n",
    "        print(best_lambdas)\n",
    "\n",
    "        bkg_data = transformed_data"
   ]
  },
  {
   "cell_type": "code",
   "execution_count": 7,
   "metadata": {},
   "outputs": [
    {
     "name": "stdout",
     "output_type": "stream",
     "text": [
      "(196837, 10)\n"
     ]
    },
    {
     "data": {
      "image/png": "[encoded data removed]",
      "text/plain": [
       "<Figure size 432x288 with 1 Axes>"
      ]
     },
     "metadata": {
      "needs_background": "light"
     },
     "output_type": "display_data"
    }
   ],
   "source": [
    "print(bkg_data.shape)\n",
    "\n",
    "plot_var = 0\n",
    "plt.hist(bkg_data[:,plot_var], bins=100)\n",
    "plt.show()"
   ]
  },
  {
   "cell_type": "code",
   "execution_count": 8,
   "metadata": {},
   "outputs": [],
   "source": [
    "bkg_mean = []\n",
    "bkg_std = []\n",
    "\n",
    "for index in range(bkg_data.shape[1]):\n",
    "    mean = np.mean(bkg_data[:,index])\n",
    "    std = np.std(bkg_data[:,index])\n",
    "    bkg_mean.append(mean)\n",
    "    bkg_std.append(std)\n",
    "    bkg_data[:,index] = (bkg_data[:,index]-mean)/std"
   ]
  },
  {
   "cell_type": "code",
   "execution_count": 9,
   "metadata": {},
   "outputs": [
    {
     "data": {
      "text/plain": [
       "[0.5546581,\n",
       " 0.77264345,\n",
       " 0.84187394,\n",
       " 9.535129,\n",
       " 56.12205,\n",
       " 0.7016144,\n",
       " 0.7999982,\n",
       " 0.834374,\n",
       " 20.80692,\n",
       " 41.194126]"
      ]
     },
     "execution_count": 9,
     "metadata": {},
     "output_type": "execute_result"
    }
   ],
   "source": [
    "bkg_mean"
   ]
  },
  {
   "cell_type": "code",
   "execution_count": 10,
   "metadata": {},
   "outputs": [
    {
     "data": {
      "text/plain": [
       "[0.19600613,\n",
       " 0.11156813,\n",
       " 0.06708213,\n",
       " 9.3801985,\n",
       " 19.715466,\n",
       " 0.1466012,\n",
       " 0.083346665,\n",
       " 0.06478198,\n",
       " 15.283091,\n",
       " 15.936338]"
      ]
     },
     "execution_count": 10,
     "metadata": {},
     "output_type": "execute_result"
    }
   ],
   "source": [
    "bkg_std"
   ]
  },
  {
   "cell_type": "code",
   "execution_count": 11,
   "metadata": {},
   "outputs": [
    {
     "name": "stdout",
     "output_type": "stream",
     "text": [
      "(196837, 11)\n"
     ]
    }
   ],
   "source": [
    "bkg_labels = np.zeros((bkg_data.shape[0], 1))\n",
    "bkg_data = np.concatenate((bkg_data, bkg_labels), axis=1)\n",
    "print(bkg_data.shape)"
   ]
  },
  {
   "cell_type": "code",
   "execution_count": 12,
   "metadata": {},
   "outputs": [
    {
     "name": "stdout",
     "output_type": "stream",
     "text": [
      "Keys: <KeysViewHDF5 ['event_info', 'jet1_PFCands', 'jet1_extraInfo', 'jet2_PFCands', 'jet2_extraInfo', 'jet_kinematics', 'truth_label']>\n"
     ]
    }
   ],
   "source": [
    "sig_data = np.array([])\n",
    "\n",
    "for batch_number in range(num_sig_batches): \n",
    "    train_batch = \"/nobackup/users/myunus/CASE_samples/BB_batch%s.h5\" % (batch_number)\n",
    "    f = h5py.File(train_batch, \"r\")\n",
    "    \n",
    "    if batch_number == 0: \n",
    "        print(\"Keys: %s\" % f.keys())\n",
    "    \n",
    "    jet_kinematics = f['jet_kinematics']\n",
    "    jet1_extraInfo = f['jet1_extraInfo']\n",
    "    jet2_extraInfo = f['jet2_extraInfo']\n",
    "    truth_label = f['truth_label']\n",
    "\n",
    "    np.seterr(invalid = 'ignore')\n",
    "\n",
    "    delta_eta = jet_kinematics[:,1]\n",
    "\n",
    "    Mjj = np.reshape(jet_kinematics[:,0], (-1,1))\n",
    "    Mj1 = np.reshape(jet_kinematics[:,5], (-1,1))\n",
    "    Mj2 = np.reshape(jet_kinematics[:,9], (-1,1))\n",
    "\n",
    "    jet1_pt = np.reshape(jet_kinematics[:,2], (-1,1))\n",
    "    jet2_pt = np.reshape(jet_kinematics[:,6], (-1,1))\n",
    "\n",
    "    jet1_tau1 = np.reshape(jet1_extraInfo[:,0], (-1,1))\n",
    "    jet1_tau2 = np.reshape(jet1_extraInfo[:,1], (-1,1))\n",
    "    jet1_tau3 = np.reshape(jet1_extraInfo[:,2], (-1,1))\n",
    "    jet1_tau4 = np.reshape(jet1_extraInfo[:,3], (-1,1))\n",
    "    #jet1_btagscore = np.reshape(jet1_extraInfo[:,5],(-1,1))\n",
    "    jet1_numpfconst = np.reshape(jet1_extraInfo[:,6],(-1,1))\n",
    "\n",
    "    jet1_tau21 = jet1_tau2 / jet1_tau1\n",
    "    jet1_tau32 = jet1_tau3 / jet1_tau2\n",
    "    jet1_tau43 = jet1_tau4 / jet1_tau3\n",
    "    jet1_sqrt_tau21 = np.sqrt(jet1_tau21) / jet1_tau1\n",
    "\n",
    "    jet2_tau1 = np.reshape(jet2_extraInfo[:,0], (-1,1))\n",
    "    jet2_tau2 = np.reshape(jet2_extraInfo[:,1], (-1,1))\n",
    "    jet2_tau3 = np.reshape(jet2_extraInfo[:,2], (-1,1))\n",
    "    jet2_tau4 = np.reshape(jet2_extraInfo[:,3], (-1,1))\n",
    "    #jet2_btagscore = np.reshape(jet2_extraInfo[:,5],(-1,1))\n",
    "    jet2_numpfconst = np.reshape(jet2_extraInfo[:,6],(-1,1))\n",
    "\n",
    "    jet2_tau21 = jet2_tau2 / jet2_tau1\n",
    "    jet2_tau32 = jet2_tau3 / jet2_tau2\n",
    "    jet2_tau43 = jet2_tau4 / jet2_tau3\n",
    "    jet2_sqrt_tau21 = np.sqrt(jet2_tau21) / jet2_tau1\n",
    "\n",
    "    truth_label = truth_label[:]\n",
    "    \n",
    "    data = np.concatenate((jet1_tau21, jet1_tau32, jet1_tau43, jet1_sqrt_tau21, jet1_numpfconst, \n",
    "                       jet2_tau21, jet2_tau32, jet2_tau43, jet2_sqrt_tau21, jet2_numpfconst), axis=1)\n",
    "\n",
    "    sig_indices = np.where((truth_label == 2) \n",
    "                              & (Mjj > Mjj_cut) \n",
    "                              & (jet1_pt > pt_cut) \n",
    "                              & (jet2_pt > pt_cut)\n",
    "                              & (np.isfinite(jet1_tau21))\n",
    "                              & (np.isfinite(jet1_tau32))\n",
    "                              & (np.isfinite(jet1_tau43))\n",
    "                              & (np.isfinite(jet1_sqrt_tau21))\n",
    "                              & (np.isfinite(jet2_tau21))\n",
    "                              & (np.isfinite(jet2_tau32))\n",
    "                              & (np.isfinite(jet2_tau43))\n",
    "                              & (np.isfinite(jet2_sqrt_tau21)))[0]\n",
    "\n",
    "    if eta_cut is not None: \n",
    "        sig_eta_indices = np.where((np.abs(delta_eta) < eta_cut))[0]\n",
    "        sig_indices = np.intersect1d(sig_indices, sig_eta_indices)\n",
    "\n",
    "    if batch_number == 0: \n",
    "        sig_data = data[sig_indices]\n",
    "    else: \n",
    "        sig_data = np.concatenate((sig_data, data[sig_indices]), axis=0)\n",
    "    \n",
    "    if box_cox: \n",
    "        \n",
    "        transformed_data = np.zeros(sig_data.shape)\n",
    "        best_lambdas = []\n",
    "        for col in range(num_features): \n",
    "            boxcox_col, best_lambda = stats.boxcox(sig_data[:,col] + np.abs(np.min(sig_data[:,col])) + 1)\n",
    "            transformed_data[:,col] = boxcox_col\n",
    "            best_lambdas.append(best_lambda)\n",
    "\n",
    "        print(best_lambdas)\n",
    "\n",
    "        sig_data = transformed_data"
   ]
  },
  {
   "cell_type": "code",
   "execution_count": 13,
   "metadata": {},
   "outputs": [
    {
     "name": "stdout",
     "output_type": "stream",
     "text": [
      "(13489, 10)\n"
     ]
    },
    {
     "data": {
      "image/png": "[encoded data removed]",
      "text/plain": [
       "<Figure size 432x288 with 1 Axes>"
      ]
     },
     "metadata": {
      "needs_background": "light"
     },
     "output_type": "display_data"
    }
   ],
   "source": [
    "print(sig_data.shape)\n",
    "\n",
    "plot_var = 0\n",
    "plt.hist(sig_data[:,plot_var], bins=100)\n",
    "plt.show()"
   ]
  },
  {
   "cell_type": "code",
   "execution_count": 14,
   "metadata": {},
   "outputs": [],
   "source": [
    "sig_mean = []\n",
    "sig_std = []\n",
    "\n",
    "for index in range(sig_data.shape[1]):\n",
    "    mean = np.mean(sig_data[:,index])\n",
    "    std = np.std(sig_data[:,index])\n",
    "    sig_mean.append(mean)\n",
    "    sig_std.append(std)\n",
    "    sig_data[:,index] = (sig_data[:,index]-mean)/std"
   ]
  },
  {
   "cell_type": "code",
   "execution_count": 15,
   "metadata": {},
   "outputs": [
    {
     "data": {
      "text/plain": [
       "[0.337454,\n",
       " 0.7443578,\n",
       " 0.82764494,\n",
       " 6.859797,\n",
       " 39.520794,\n",
       " 0.3976583,\n",
       " 0.75373393,\n",
       " 0.8245147,\n",
       " 9.298458,\n",
       " 38.39751]"
      ]
     },
     "execution_count": 15,
     "metadata": {},
     "output_type": "execute_result"
    }
   ],
   "source": [
    "sig_mean"
   ]
  },
  {
   "cell_type": "code",
   "execution_count": 16,
   "metadata": {},
   "outputs": [
    {
     "data": {
      "text/plain": [
       "[0.12913826,\n",
       " 0.13577673,\n",
       " 0.073178515,\n",
       " 2.6844316,\n",
       " 11.539939,\n",
       " 0.15362568,\n",
       " 0.11772301,\n",
       " 0.07234418,\n",
       " 5.4005322,\n",
       " 10.195707]"
      ]
     },
     "execution_count": 16,
     "metadata": {},
     "output_type": "execute_result"
    }
   ],
   "source": [
    "sig_std"
   ]
  },
  {
   "cell_type": "code",
   "execution_count": 17,
   "metadata": {},
   "outputs": [
    {
     "name": "stdout",
     "output_type": "stream",
     "text": [
      "(13489, 11)\n"
     ]
    }
   ],
   "source": [
    "sig_labels = np.ones((sig_data.shape[0], 1))\n",
    "sig_data = np.concatenate((sig_data, sig_labels), axis=1)\n",
    "print(sig_data.shape)"
   ]
  },
  {
   "cell_type": "code",
   "execution_count": 18,
   "metadata": {},
   "outputs": [
    {
     "name": "stdout",
     "output_type": "stream",
     "text": [
      "(210326, 11)\n",
      "(210326, 10)\n",
      "(210326,)\n",
      "[[-0.52414531  0.25217831  1.30053985 -0.75220406 -0.30509642  0.29986814\n",
      "  -0.64156491  1.20756948 -0.4145996   1.13797784  1.        ]\n",
      " [ 0.98827457 -0.72808903  0.15251926 -0.1935311  -0.25979865  1.29742754\n",
      "   0.11645433  1.66777408  0.00758317  0.30156702  0.        ]\n",
      " [ 1.55610991  0.08493537 -1.78570521  0.60062677  1.16804826  0.75979221\n",
      "   0.64668119 -0.77485025  0.94143522  0.15717296  1.        ]\n",
      " [-0.47954512  0.34129453  0.04568478  0.0197563  -0.66557145  0.85714394\n",
      "   0.17852215  1.34769738 -0.67957109  1.05456305  0.        ]\n",
      " [ 0.5076986   0.58918178 -0.53949374  1.36378789 -1.52783871 -1.65008521\n",
      "   0.33861727  0.52298397 -0.19002411 -1.0161761   0.        ]\n",
      " [ 0.92704004  1.21343994  0.95871043  0.34606135 -0.36124185  0.3778615\n",
      "   0.58511293  0.70430058 -0.11612381 -0.3259297   0.        ]\n",
      " [-0.42214414 -3.191396    0.71637303 -0.87840831  0.39958218  0.00902844\n",
      "  -3.29295039  0.56744224 -0.383405   -0.51417869  0.        ]\n",
      " [-0.83506036  0.31108889 -0.46274501 -0.47530818  0.6531902   0.05903942\n",
      "   1.37233829  0.06120836 -0.84308416  1.99580812  0.        ]\n",
      " [-0.52980107 -0.01299977 -0.90491247 -0.18654293 -0.56412828 -1.16361177\n",
      "  -0.74928433 -1.07188654 -0.96407431  1.87030876  0.        ]\n",
      " [-0.72778869 -1.91555512  1.29036677 -0.35663381 -0.20907705 -0.77706909\n",
      "  -3.37912583 -0.60738569 -0.60676426 -0.26318005  0.        ]\n",
      " [-0.7010839   1.37643898  0.39999062 -0.46073335  0.29813898 -0.65753102\n",
      "   0.15769653  0.06839419  0.0205021  -0.45142904  0.        ]\n",
      " [-0.48980987  0.56766349  1.5906347  -0.56364357  0.45030379  1.73065543\n",
      "   0.16308726 -0.37683836 -0.73736173  1.68205976  0.        ]\n",
      " [-0.36970463 -0.63654947 -0.92759138  1.2871536  -1.68000352  0.37864619\n",
      "  -2.48580837 -0.72885567 -0.15313324 -0.63967806  0.        ]\n",
      " [ 0.40853873 -1.93754506 -5.61151123 -0.80150342  2.02267337 -1.55989993\n",
      "   0.05495933 -0.93377697 -1.0763458   1.36831141  0.        ]\n",
      " [ 0.72585326  1.38350165 -0.65862817 -0.37697688  1.21112788 -1.12893522\n",
      "  -0.69535196  1.14776015 -0.73846614  0.11331799  0.        ]\n",
      " [-0.14434333  0.77747089  0.38912833  0.59367311 -1.62928188  0.47954878\n",
      "   0.04390253 -0.62304455  4.23664379 -1.83192182  0.        ]\n",
      " [ 1.23110485 -0.55969203  0.05770129  0.32223842 -0.51340663 -0.03936436\n",
      "  -0.60199094 -0.22101441  2.13689971 -1.70642245  0.        ]\n",
      " [ 0.44116426  0.23392583  0.59651977  0.23667185 -0.66557145 -1.15064156\n",
      "   1.38516581  0.39749232 -0.68326557  0.55256569  0.        ]\n",
      " [ 1.16532409 -0.6924966   0.89666688  0.34647992 -0.36124185  0.73684967\n",
      "   1.09872603 -0.7795521   0.47943443 -0.45142904  0.        ]\n",
      " [ 0.53426868 -2.23237586 -0.95781928  4.49688625 -2.08577633  1.34134686\n",
      "   0.15469007 -0.90731084 -0.21917856 -0.07493103  0.        ]\n",
      " [ 1.03769898  0.59529728  1.2809341   1.06813037  0.09525257  0.22505164\n",
      "   1.19173801  0.26642591  1.23964894 -0.95342642  0.        ]\n",
      " [ 0.65768051 -1.14612782  0.7146306  -0.13435146 -0.36124185 -0.16242336\n",
      "  -1.57967567  0.01931065  0.63764411 -1.07892573  0.        ]\n",
      " [ 0.91501546  0.19997354 -0.73948461  0.9988845  -1.17278743  1.67563391\n",
      "   0.12025245  0.16959663  1.3897444  -0.95342642  0.        ]\n",
      " [-0.61568308  1.32393372  1.42203462 -0.15246478 -0.21844083 -0.40906259\n",
      "   1.26583171  0.12310936 -0.606493    0.74565589  1.        ]\n",
      " [ 0.71981275  0.96946597 -1.50056767 -0.2319655   0.70391178  1.1446116\n",
      "  -1.19097996  0.24307427  2.56430554 -1.45542383  0.        ]]\n"
     ]
    }
   ],
   "source": [
    "supervised_data = np.concatenate((bkg_data, sig_data), axis=0)\n",
    "np.random.shuffle(supervised_data)\n",
    "supervised_data_NL = supervised_data[:,:-1] # NL stands for No Labels\n",
    "supervised_labels = supervised_data[:,-1]\n",
    "print(supervised_data.shape)\n",
    "print(supervised_data_NL.shape)\n",
    "print(supervised_labels.shape)\n",
    "print(supervised_data[:25])"
   ]
  },
  {
   "cell_type": "code",
   "execution_count": 19,
   "metadata": {},
   "outputs": [
    {
     "data": {
      "text/plain": [
       "MLPClassifier(hidden_layer_sizes=(30, 20))"
      ]
     },
     "execution_count": 19,
     "metadata": {},
     "output_type": "execute_result"
    }
   ],
   "source": [
    "classifier = MLPClassifier(hidden_layer_sizes = (30,20))\n",
    "classifier.fit(supervised_data_NL, supervised_labels)"
   ]
  },
  {
   "cell_type": "code",
   "execution_count": 20,
   "metadata": {},
   "outputs": [
    {
     "name": "stdout",
     "output_type": "stream",
     "text": [
      "(210326,)\n",
      "(210326, 2)\n",
      "[0.         0.         0.         ... 0.67525414 0.67525414 1.        ]\n",
      "[0.         0.008822   0.01045296 ... 0.99992587 1.         1.        ]\n"
     ]
    }
   ],
   "source": [
    "supervised_predict_proba = classifier.predict_proba(supervised_data_NL)\n",
    "print(supervised_labels.shape)\n",
    "print(supervised_predict_proba.shape)\n",
    "fpr, tpr, _ = roc_curve(y_true = supervised_labels, y_score = supervised_predict_proba[:,1], pos_label = 1)\n",
    "print(fpr)\n",
    "print(tpr)"
   ]
  },
  {
   "cell_type": "code",
   "execution_count": 21,
   "metadata": {},
   "outputs": [
    {
     "data": {
      "image/png": "[encoded data removed]",
      "text/plain": [
       "<Figure size 432x288 with 1 Axes>"
      ]
     },
     "metadata": {
      "needs_background": "light"
     },
     "output_type": "display_data"
    },
    {
     "name": "stdout",
     "output_type": "stream",
     "text": [
      "0.9813995009102916\n"
     ]
    }
   ],
   "source": [
    "plt.plot(fpr, tpr)\n",
    "plt.show()\n",
    "AUC = roc_auc_score(y_true = supervised_labels, y_score = supervised_predict_proba[:,1])\n",
    "print(AUC)"
   ]
  },
  {
   "cell_type": "code",
   "execution_count": null,
   "metadata": {},
   "outputs": [],
   "source": []
  }
 ],
 "metadata": {
  "kernelspec": {
   "display_name": "Python 3 (ipykernel)",
   "language": "python",
   "name": "python3"
  },
  "language_info": {
   "codemirror_mode": {
    "name": "ipython",
    "version": 3
   },
   "file_extension": ".py",
   "mimetype": "text/x-python",
   "name": "python",
   "nbconvert_exporter": "python",
   "pygments_lexer": "ipython3",
   "version": "3.7.12"
  }
 },
 "nbformat": 4,
 "nbformat_minor": 4
}
