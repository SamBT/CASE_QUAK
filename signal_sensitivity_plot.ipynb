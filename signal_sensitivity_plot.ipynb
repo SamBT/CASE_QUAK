{
 "cells": [
  {
   "cell_type": "code",
   "execution_count": null,
   "metadata": {},
   "outputs": [],
   "source": [
    "import numpy as np\n",
    "import matplotlib.pyplot as plt"
   ]
  },
  {
   "cell_type": "code",
   "execution_count": null,
   "metadata": {},
   "outputs": [],
   "source": [
    "SCL = np.array([53, 106, 159, 213, 266, 319, 373, 426, 479, 533])    #Signal Contamination List\n",
    "print(SCL.shape)\n",
    "SCL = SCL/397296\n",
    "print(SCL)"
   ]
  },
  {
   "cell_type": "code",
   "execution_count": null,
   "metadata": {},
   "outputs": [],
   "source": [
    "#PVL = np.array([0.475, 0.269, 0.116, 0.0128, 0.00801, 0.00226, 0.000320, 8.151 * 10**(-6), 7.325 * 10**(-7), 1.656 * 10**(-8)])    #P-Value List\n",
    "PVL = np.array([0.08555351357129094, 0.051381162963350414, 0.03230250859939663, 0.02487646567737817, 0.01550996887466056, 0.004800321665221386, 0.003582432438095198, 0.0016621181216314766, 0.0003948617436248651, 0.0000205222857390281])    #P-Value List"
   ]
  },
  {
   "cell_type": "code",
   "execution_count": null,
   "metadata": {},
   "outputs": [],
   "source": [
    "#plt.rcParams[\"figure.figsize\"] = (5,5)"
   ]
  },
  {
   "cell_type": "code",
   "execution_count": null,
   "metadata": {},
   "outputs": [],
   "source": [
    "plt.plot(SCL, PVL, marker='v')\n",
    "plt.yscale('log')\n",
    "plt.ticklabel_format(style='sci', axis='x', scilimits=(0,0))\n",
    "plt.xlabel('Signal Contamination [Sig / (Sig+Bkg)]')\n",
    "plt.ylabel('$p^0$ Value')\n",
    "plt.title('QUAK-NF ($M_{jj}=2500$ GeV/$\\mathrm{c}^2$)')\n",
    "plt.show()"
   ]
  },
  {
   "cell_type": "code",
   "execution_count": null,
   "metadata": {},
   "outputs": [],
   "source": []
  }
 ],
 "metadata": {
  "kernelspec": {
   "display_name": "Python 3 (ipykernel)",
   "language": "python",
   "name": "python3"
  },
  "language_info": {
   "codemirror_mode": {
    "name": "ipython",
    "version": 3
   },
   "file_extension": ".py",
   "mimetype": "text/x-python",
   "name": "python",
   "nbconvert_exporter": "python",
   "pygments_lexer": "ipython3",
   "version": "3.7.12"
  }
 },
 "nbformat": 4,
 "nbformat_minor": 4
}
